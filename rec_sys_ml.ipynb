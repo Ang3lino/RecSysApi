{
 "cells": [
  {
   "cell_type": "code",
   "execution_count": 1,
   "metadata": {
    "colab": {
     "base_uri": "https://localhost:8080/"
    },
    "id": "Aez2MjqXYkeJ",
    "outputId": "0965d05e-9070-452a-8d8e-54616a2447a8"
   },
   "outputs": [
    {
     "name": "stdout",
     "output_type": "stream",
     "text": [
      "Collecting surprise\n",
      "  Downloading surprise-0.1-py2.py3-none-any.whl (1.8 kB)\n",
      "Collecting scikit-surprise\n",
      "  Downloading scikit-surprise-1.1.1.tar.gz (11.8 MB)\n",
      "\u001b[K     |████████████████████████████████| 11.8 MB 3.5 MB/s eta 0:00:01\n",
      "\u001b[?25hRequirement already satisfied: joblib>=0.11 in /home/aingeru/anaconda3/lib/python3.7/site-packages (from scikit-surprise->surprise) (0.14.1)\n",
      "Requirement already satisfied: numpy>=1.11.2 in /home/aingeru/anaconda3/lib/python3.7/site-packages (from scikit-surprise->surprise) (1.18.1)\n",
      "Requirement already satisfied: scipy>=1.0.0 in /home/aingeru/anaconda3/lib/python3.7/site-packages (from scikit-surprise->surprise) (1.4.1)\n",
      "Requirement already satisfied: six>=1.10.0 in /home/aingeru/anaconda3/lib/python3.7/site-packages (from scikit-surprise->surprise) (1.14.0)\n",
      "Building wheels for collected packages: scikit-surprise\n",
      "  Building wheel for scikit-surprise (setup.py) ... \u001b[?25ldone\n",
      "\u001b[?25h  Created wheel for scikit-surprise: filename=scikit_surprise-1.1.1-cp37-cp37m-linux_x86_64.whl size=1638295 sha256=aaf1d67f4349fc59fc3904664243ff1692200c85f85599be61741f92cc609260\n",
      "  Stored in directory: /home/aingeru/.cache/pip/wheels/76/44/74/b498c42be47b2406bd27994e16c5188e337c657025ab400c1c\n",
      "Successfully built scikit-surprise\n",
      "Installing collected packages: scikit-surprise, surprise\n",
      "Successfully installed scikit-surprise-1.1.1 surprise-0.1\n",
      "\u001b[33mWARNING: You are using pip version 20.2.3; however, version 20.3.3 is available.\n",
      "You should consider upgrading via the '/home/aingeru/anaconda3/bin/python -m pip install --upgrade pip' command.\u001b[0m\n"
     ]
    }
   ],
   "source": [
    "!pip install surprise"
   ]
  },
  {
   "cell_type": "markdown",
   "metadata": {
    "id": "3M4wkesfFj9q"
   },
   "source": [
    "# Sistema recomendador\n",
    "Se hara un sistema recomendador usando unicamente aprendizaje automatico (ninguna red neural) usando conjuntos de datos de amazon http://deepyeti.ucsd.edu/jianmo/amazon/index.html , solo las valoraciones de usuarios con productos para ser precisos. \n",
    "\n",
    "Se usa la biblioteca surprise (https://surprise.readthedocs.io/en/stable/index.html)  pues es extremadamente util para lidiar con datos dispersos muy comunes en sistemas recomendadores."
   ]
  },
  {
   "cell_type": "code",
   "execution_count": null,
   "metadata": {
    "id": "sTIHncbQ111x"
   },
   "outputs": [],
   "source": [
    "import surprise\n",
    "\n",
    "from surprise.prediction_algorithms.knns import KNNBasic\n",
    "from surprise.model_selection import KFold, GridSearchCV\n",
    "from surprise.model_selection.split import train_test_split\n",
    "from surprise.model_selection.validation import cross_validate\n",
    "\n",
    "from surprise import accuracy\n",
    "from surprise import Dataset, Reader\n",
    "from surprise import SVD, SVDpp, SlopeOne, NMF, NormalPredictor, KNNBaseline\n",
    "from surprise import KNNWithMeans, KNNWithZScore, BaselineOnly, CoClustering\n"
   ]
  },
  {
   "cell_type": "code",
   "execution_count": null,
   "metadata": {
    "id": "LZlbR4jwYkeJ"
   },
   "outputs": [],
   "source": [
    "import matplotlib.pyplot as plt\n",
    "import seaborn as sns\n",
    "import pandas as pd\n",
    "import numpy as np\n",
    "\n",
    "import gzip\n",
    "import json\n",
    "import io\n",
    "import os\n",
    "import itertools\n",
    "import sklearn\n",
    "\n",
    "from sortedcontainers import SortedList\n",
    "from scipy.sparse import csr_matrix\n",
    "from collections import defaultdict\n",
    "from sklearn import preprocessing\n",
    "from sklearn.metrics.pairwise import cosine_similarity "
   ]
  },
  {
   "cell_type": "code",
   "execution_count": null,
   "metadata": {
    "colab": {
     "base_uri": "https://localhost:8080/"
    },
    "id": "awvlpOLeYnaX",
    "outputId": "dd414bf7-bbc8-404d-b949-2aa85cce87fa"
   },
   "outputs": [
    {
     "name": "stdout",
     "output_type": "stream",
     "text": [
      "Mounted at /content/drive\n"
     ]
    }
   ],
   "source": [
    "from google.colab import files\n",
    "from google.colab import drive  \n",
    "\n",
    "drive.mount('/content/drive')"
   ]
  },
  {
   "cell_type": "markdown",
   "metadata": {
    "id": "vjj4HN6_wYFd"
   },
   "source": [
    "# Examinando el dataset"
   ]
  },
  {
   "cell_type": "code",
   "execution_count": null,
   "metadata": {
    "colab": {
     "base_uri": "https://localhost:8080/",
     "height": 221
    },
    "id": "wifyfmd7yrjK",
    "outputId": "041754ea-fc96-4f95-88c1-86942c794e7e"
   },
   "outputs": [
    {
     "name": "stdout",
     "output_type": "stream",
     "text": [
      "(459436, 4)\n"
     ]
    },
    {
     "data": {
      "text/html": [
       "<div>\n",
       "<style scoped>\n",
       "    .dataframe tbody tr th:only-of-type {\n",
       "        vertical-align: middle;\n",
       "    }\n",
       "\n",
       "    .dataframe tbody tr th {\n",
       "        vertical-align: top;\n",
       "    }\n",
       "\n",
       "    .dataframe thead th {\n",
       "        text-align: right;\n",
       "    }\n",
       "</style>\n",
       "<table border=\"1\" class=\"dataframe\">\n",
       "  <thead>\n",
       "    <tr style=\"text-align: right;\">\n",
       "      <th></th>\n",
       "      <th>0</th>\n",
       "      <th>1</th>\n",
       "      <th>2</th>\n",
       "      <th>3</th>\n",
       "    </tr>\n",
       "  </thead>\n",
       "  <tbody>\n",
       "    <tr>\n",
       "      <th>0</th>\n",
       "      <td>0077613252</td>\n",
       "      <td>A240ORQ2LF9LUI</td>\n",
       "      <td>4.0</td>\n",
       "      <td>1394496000</td>\n",
       "    </tr>\n",
       "    <tr>\n",
       "      <th>1</th>\n",
       "      <td>0077613252</td>\n",
       "      <td>A1YCCU0YRLS0FE</td>\n",
       "      <td>4.0</td>\n",
       "      <td>1393113600</td>\n",
       "    </tr>\n",
       "    <tr>\n",
       "      <th>2</th>\n",
       "      <td>0077613252</td>\n",
       "      <td>A1BJHRQDYVAY2J</td>\n",
       "      <td>1.0</td>\n",
       "      <td>1392595200</td>\n",
       "    </tr>\n",
       "    <tr>\n",
       "      <th>3</th>\n",
       "      <td>0077613252</td>\n",
       "      <td>APRDVZ6QBIQXT</td>\n",
       "      <td>3.0</td>\n",
       "      <td>1392595200</td>\n",
       "    </tr>\n",
       "    <tr>\n",
       "      <th>4</th>\n",
       "      <td>0077775473</td>\n",
       "      <td>A2JZTTBSLS1QXV</td>\n",
       "      <td>5.0</td>\n",
       "      <td>1381708800</td>\n",
       "    </tr>\n",
       "  </tbody>\n",
       "</table>\n",
       "</div>"
      ],
      "text/plain": [
       "            0               1    2           3\n",
       "0  0077613252  A240ORQ2LF9LUI  4.0  1394496000\n",
       "1  0077613252  A1YCCU0YRLS0FE  4.0  1393113600\n",
       "2  0077613252  A1BJHRQDYVAY2J  1.0  1392595200\n",
       "3  0077613252   APRDVZ6QBIQXT  3.0  1392595200\n",
       "4  0077775473  A2JZTTBSLS1QXV  5.0  1381708800"
      ]
     },
     "execution_count": 6,
     "metadata": {
      "tags": []
     },
     "output_type": "execute_result"
    }
   ],
   "source": [
    "fname = 'Software.csv'\n",
    "df = pd.read_csv(os.path.join('drive', 'My Drive', 'petroleo', 'amazon', fname), header=None)  \n",
    "\n",
    "#  product_id, user_id, rating, unix_time\n",
    "print(df.shape)  # reviews, atributos\n",
    "df.head()"
   ]
  },
  {
   "cell_type": "code",
   "execution_count": null,
   "metadata": {
    "colab": {
     "base_uri": "https://localhost:8080/"
    },
    "id": "0vlxUc7SX1Xn",
    "outputId": "4b3df4ee-0867-4701-854c-eab9ad83d2cf"
   },
   "outputs": [
    {
     "name": "stdout",
     "output_type": "stream",
     "text": [
      "duplicados: 8653\n"
     ]
    }
   ],
   "source": [
    "column_names = ['item', 'user', 'rating', 'unix_time']\n",
    "df.rename(columns={x: y for x, y in zip(df.columns, column_names)}, inplace=True)  # renombre sin reasignar\n",
    "\n",
    "count_duplicates = df.duplicated(df.columns).sum()\n",
    "print(f'duplicados: {count_duplicates}')"
   ]
  },
  {
   "cell_type": "code",
   "execution_count": null,
   "metadata": {
    "colab": {
     "base_uri": "https://localhost:8080/",
     "height": 309
    },
    "id": "GcDmu7Sl4fE9",
    "outputId": "cd069b6d-9688-46ae-8967-acefa2800942"
   },
   "outputs": [
    {
     "data": {
      "image/png": "[encoded data removed]",
      "text/plain": [
       "<Figure size 432x288 with 1 Axes>"
      ]
     },
     "metadata": {
      "needs_background": "light",
      "tags": []
     },
     "output_type": "display_data"
    }
   ],
   "source": [
    "# plt.figure(figsize = (12, 8))\n",
    "ax = sns.countplot(x=\"rating\", data=df)\n",
    "ax.set_yticklabels([num for num in ax.get_yticks()])\n",
    "# plt.tick_params(labelsize = 15)\n",
    "plt.title(\"Count Ratings in train data\", fontsize = 20)\n",
    "plt.xlabel(\"Ratings\", fontsize = 20)\n",
    "plt.ylabel(\"Number of Ratings\", fontsize = 20)\n",
    "plt.show()\n"
   ]
  },
  {
   "cell_type": "markdown",
   "metadata": {
    "id": "tH--yEh7E3uj"
   },
   "source": [
    "# Preprocesado de el conjunto de datos\n",
    "Se conservan solo los las filas y columnas que tengan al menos n elementos."
   ]
  },
  {
   "cell_type": "code",
   "execution_count": null,
   "metadata": {
    "colab": {
     "base_uri": "https://localhost:8080/"
    },
    "id": "b0WIJiHUzNA4",
    "outputId": "899176c2-b3f9-47ee-d98e-3933adc87252"
   },
   "outputs": [
    {
     "data": {
      "text/plain": [
       "(24650, 4)"
      ]
     },
     "execution_count": 9,
     "metadata": {
      "tags": []
     },
     "output_type": "execute_result"
    }
   ],
   "source": [
    "def filter_by_freq(df: pd.DataFrame, column: str, min_freq: int) -> pd.DataFrame:\n",
    "    \"\"\"Filters the DataFrame based on the value frequency in the specified column.\n",
    "\n",
    "    :param df: DataFrame to be filtered.\n",
    "    :param column: Column name that should be frequency filtered.\n",
    "    :param min_freq: Minimal value frequency for the row to be accepted.\n",
    "    :return: Filter serie.\n",
    "    \"\"\"\n",
    "    freq = df[column].value_counts()  # Frequencies of each value in the column.\n",
    "    frequent_values = freq[freq >= min_freq].index  # Select frequent values. Value is in the index.\n",
    "    return df[column].isin(frequent_values)  # return series filter\n",
    "\n",
    "def label_df(df, ):\n",
    "    le_user = preprocessing.LabelEncoder().fit(df_dense['user'])\n",
    "    le_item = preprocessing.LabelEncoder().fit(df_dense['item'])\n",
    "    df.loc[:, 'user'] = le_user.transform(df_dense['user'])\n",
    "    df.loc[:, 'item'] = le_item.transform(df_dense['item'])\n",
    "\n",
    "\n",
    "filter_user = filter_by_freq(df, 'user', 5)\n",
    "filter_item = filter_by_freq(df, 'item', 5)\n",
    "df_dense = df[filter_user & filter_item]\n",
    "\n",
    "df_dense.shape"
   ]
  },
  {
   "cell_type": "markdown",
   "metadata": {
    "id": "f4n8fpuKHUMy"
   },
   "source": [
    "## Prueba de algoritmos\n",
    "Se usan diversos algoritmos para ver su rendimiento en el dataset."
   ]
  },
  {
   "cell_type": "code",
   "execution_count": null,
   "metadata": {
    "colab": {
     "base_uri": "https://localhost:8080/",
     "height": 965
    },
    "id": "O6-Uh3gQa_4Y",
    "outputId": "2ead0fc8-4228-4fd3-ff4a-e245152ea4ac"
   },
   "outputs": [
    {
     "name": "stdout",
     "output_type": "stream",
     "text": [
      "Estimating biases using als...\n",
      "Computing the msd similarity matrix...\n",
      "Done computing similarity matrix.\n",
      "Estimating biases using als...\n",
      "Computing the msd similarity matrix...\n",
      "Done computing similarity matrix.\n",
      "Estimating biases using als...\n",
      "Computing the msd similarity matrix...\n",
      "Done computing similarity matrix.\n",
      "Computing the msd similarity matrix...\n",
      "Done computing similarity matrix.\n",
      "Computing the msd similarity matrix...\n",
      "Done computing similarity matrix.\n",
      "Computing the msd similarity matrix...\n",
      "Done computing similarity matrix.\n",
      "Computing the msd similarity matrix...\n",
      "Done computing similarity matrix.\n",
      "Computing the msd similarity matrix...\n",
      "Done computing similarity matrix.\n",
      "Computing the msd similarity matrix...\n",
      "Done computing similarity matrix.\n",
      "Computing the msd similarity matrix...\n",
      "Done computing similarity matrix.\n",
      "Computing the msd similarity matrix...\n",
      "Done computing similarity matrix.\n",
      "Computing the msd similarity matrix...\n",
      "Done computing similarity matrix.\n",
      "Estimating biases using als...\n",
      "Estimating biases using als...\n",
      "Estimating biases using als...\n",
      "CPU times: user 31 s, sys: 708 ms, total: 31.7 s\n",
      "Wall time: 31.8 s\n"
     ]
    },
    {
     "data": {
      "text/html": [
       "<div>\n",
       "<style scoped>\n",
       "    .dataframe tbody tr th:only-of-type {\n",
       "        vertical-align: middle;\n",
       "    }\n",
       "\n",
       "    .dataframe tbody tr th {\n",
       "        vertical-align: top;\n",
       "    }\n",
       "\n",
       "    .dataframe thead th {\n",
       "        text-align: right;\n",
       "    }\n",
       "</style>\n",
       "<table border=\"1\" class=\"dataframe\">\n",
       "  <thead>\n",
       "    <tr style=\"text-align: right;\">\n",
       "      <th></th>\n",
       "      <th>test_rmse</th>\n",
       "      <th>fit_time</th>\n",
       "      <th>test_time</th>\n",
       "    </tr>\n",
       "    <tr>\n",
       "      <th>Algorithm</th>\n",
       "      <th></th>\n",
       "      <th></th>\n",
       "      <th></th>\n",
       "    </tr>\n",
       "  </thead>\n",
       "  <tbody>\n",
       "    <tr>\n",
       "      <th>SVDpp</th>\n",
       "      <td>1.228389</td>\n",
       "      <td>2.853442</td>\n",
       "      <td>0.146885</td>\n",
       "    </tr>\n",
       "    <tr>\n",
       "      <th>SVD</th>\n",
       "      <td>1.259521</td>\n",
       "      <td>0.994424</td>\n",
       "      <td>0.057635</td>\n",
       "    </tr>\n",
       "    <tr>\n",
       "      <th>KNNWithMeans</th>\n",
       "      <td>1.300836</td>\n",
       "      <td>0.396948</td>\n",
       "      <td>0.261320</td>\n",
       "    </tr>\n",
       "    <tr>\n",
       "      <th>BaselineOnly</th>\n",
       "      <td>1.301049</td>\n",
       "      <td>0.036474</td>\n",
       "      <td>0.038243</td>\n",
       "    </tr>\n",
       "    <tr>\n",
       "      <th>KNNWithZScore</th>\n",
       "      <td>1.303850</td>\n",
       "      <td>0.502574</td>\n",
       "      <td>0.289879</td>\n",
       "    </tr>\n",
       "    <tr>\n",
       "      <th>CoClustering</th>\n",
       "      <td>1.321165</td>\n",
       "      <td>0.851564</td>\n",
       "      <td>0.041682</td>\n",
       "    </tr>\n",
       "    <tr>\n",
       "      <th>SlopeOne</th>\n",
       "      <td>1.327648</td>\n",
       "      <td>0.434256</td>\n",
       "      <td>0.100424</td>\n",
       "    </tr>\n",
       "    <tr>\n",
       "      <th>KNNBaseline</th>\n",
       "      <td>1.344652</td>\n",
       "      <td>0.409067</td>\n",
       "      <td>0.297940</td>\n",
       "    </tr>\n",
       "    <tr>\n",
       "      <th>NMF</th>\n",
       "      <td>1.380167</td>\n",
       "      <td>1.448330</td>\n",
       "      <td>0.073221</td>\n",
       "    </tr>\n",
       "    <tr>\n",
       "      <th>KNNBasic</th>\n",
       "      <td>1.464109</td>\n",
       "      <td>0.380092</td>\n",
       "      <td>0.254820</td>\n",
       "    </tr>\n",
       "    <tr>\n",
       "      <th>NormalPredictor</th>\n",
       "      <td>1.899105</td>\n",
       "      <td>0.021208</td>\n",
       "      <td>0.053164</td>\n",
       "    </tr>\n",
       "  </tbody>\n",
       "</table>\n",
       "</div>"
      ],
      "text/plain": [
       "                 test_rmse  fit_time  test_time\n",
       "Algorithm                                      \n",
       "SVDpp             1.228389  2.853442   0.146885\n",
       "SVD               1.259521  0.994424   0.057635\n",
       "KNNWithMeans      1.300836  0.396948   0.261320\n",
       "BaselineOnly      1.301049  0.036474   0.038243\n",
       "KNNWithZScore     1.303850  0.502574   0.289879\n",
       "CoClustering      1.321165  0.851564   0.041682\n",
       "SlopeOne          1.327648  0.434256   0.100424\n",
       "KNNBaseline       1.344652  0.409067   0.297940\n",
       "NMF               1.380167  1.448330   0.073221\n",
       "KNNBasic          1.464109  0.380092   0.254820\n",
       "NormalPredictor   1.899105  0.021208   0.053164"
      ]
     },
     "execution_count": 10,
     "metadata": {
      "tags": []
     },
     "output_type": "execute_result"
    }
   ],
   "source": [
    "def test_algos():\n",
    "    benchmark = []\n",
    "    algos = [SVD(), SVDpp(), SlopeOne(), NMF(), NormalPredictor(), KNNBaseline(), KNNBasic(), \n",
    "            KNNWithMeans(), KNNWithZScore(), BaselineOnly(), CoClustering()]\n",
    "    for algorithm in algos:\n",
    "        results = cross_validate(algorithm, data, measures=['RMSE'], cv=3, verbose=False)\n",
    "\n",
    "        # Get results & append algorithm name\n",
    "        tmp = pd.DataFrame.from_dict(results).mean(axis=0)\n",
    "        tmp = tmp.append(pd.Series([str(algorithm).split(' ')[0].split('.')[-1]], index=['Algorithm']))\n",
    "        benchmark.append(tmp)\n",
    "    return pd.DataFrame(benchmark).set_index('Algorithm').sort_values('test_rmse')  \n",
    "\n",
    "\n",
    "reader = Reader(rating_scale=(1, 5), )\n",
    "# reader = Reader(rating_scale=(1, 5), line_format='item user rating')\n",
    "data = Dataset.load_from_df(df_dense[['user', 'item', 'rating']], reader)\n",
    "trainset, testset = train_test_split(data, test_size=0.25)  # important step, you can't fit by using the data only\n",
    "\n",
    "%time test_algos()"
   ]
  },
  {
   "cell_type": "markdown",
   "metadata": {
    "id": "k3L8exwWK2Yf"
   },
   "source": [
    "## KNNBasic\n",
    "Filtros colaborativos.\n"
   ]
  },
  {
   "cell_type": "code",
   "execution_count": null,
   "metadata": {
    "colab": {
     "base_uri": "https://localhost:8080/"
    },
    "id": "Q-RAsneFqVct",
    "outputId": "c3e420f1-abb1-4d5b-fb0d-6d89d83c1cb1"
   },
   "outputs": [
    {
     "name": "stdout",
     "output_type": "stream",
     "text": [
      "Computing the pearson similarity matrix...\n",
      "Done computing similarity matrix.\n",
      "CPU times: user 627 ms, sys: 13.9 ms, total: 641 ms\n",
      "Wall time: 642 ms\n",
      "MAE:  1.0548\n",
      "RMSE: 1.3809\n",
      "1.0548027809493299 1.3808859351799894\n"
     ]
    }
   ],
   "source": [
    "\n",
    "sim_options = {'name': 'pearson', 'user_based': False}\n",
    "algo = KNNBasic(sim_options=sim_options)\n",
    "%time algo.fit(trainset=trainset)\n",
    "preds = algo.test(testset)\n",
    "\n",
    "# metrics\n",
    "mae_model = accuracy.mae(preds)\n",
    "rmse_model = accuracy.rmse(preds)\n",
    "print(mae_model, rmse_model)"
   ]
  },
  {
   "cell_type": "markdown",
   "metadata": {
    "id": "_y-0vWGUM_bo"
   },
   "source": [
    "## Baseline\n"
   ]
  },
  {
   "cell_type": "code",
   "execution_count": null,
   "metadata": {
    "colab": {
     "base_uri": "https://localhost:8080/"
    },
    "id": "kLSNoGGscAGS",
    "outputId": "929b321b-60a6-43bd-8eeb-a2985c9abbdf"
   },
   "outputs": [
    {
     "name": "stdout",
     "output_type": "stream",
     "text": [
      "Using ALS\n",
      "Estimating biases using als...\n",
      "Estimating biases using als...\n",
      "Estimating biases using als...\n",
      "Estimating biases using als...\n",
      "RMSE: 1.2811\n"
     ]
    },
    {
     "data": {
      "text/plain": [
       "1.2811287763187786"
      ]
     },
     "execution_count": 12,
     "metadata": {
      "tags": []
     },
     "output_type": "execute_result"
    }
   ],
   "source": [
    "print('Using ALS')\n",
    "bsl_options = {'method': 'als',\n",
    "               'n_epochs': 5,\n",
    "               'reg_u': 12,\n",
    "               'reg_i': 5\n",
    "               }\n",
    "algo = BaselineOnly(bsl_options=bsl_options)\n",
    "cross_validate(algo, data, measures=['RMSE'], cv=3, verbose=False)\n",
    "\n",
    "trainset, testset = train_test_split(data, test_size=0.25)\n",
    "algo = BaselineOnly(bsl_options=bsl_options)\n",
    "predictions = algo.fit(trainset).test(testset)\n",
    "accuracy.rmse(predictions)"
   ]
  },
  {
   "cell_type": "code",
   "execution_count": null,
   "metadata": {
    "id": "kTxuP8ChNEAe"
   },
   "outputs": [],
   "source": []
  },
  {
   "cell_type": "code",
   "execution_count": null,
   "metadata": {
    "colab": {
     "base_uri": "https://localhost:8080/",
     "height": 359
    },
    "id": "vh4x0mByTLhH",
    "outputId": "ea777673-dd0f-4f8e-a193-f7c71b570302"
   },
   "outputs": [
    {
     "data": {
      "text/html": [
       "<div>\n",
       "<style scoped>\n",
       "    .dataframe tbody tr th:only-of-type {\n",
       "        vertical-align: middle;\n",
       "    }\n",
       "\n",
       "    .dataframe tbody tr th {\n",
       "        vertical-align: top;\n",
       "    }\n",
       "\n",
       "    .dataframe thead th {\n",
       "        text-align: right;\n",
       "    }\n",
       "</style>\n",
       "<table border=\"1\" class=\"dataframe\">\n",
       "  <thead>\n",
       "    <tr style=\"text-align: right;\">\n",
       "      <th></th>\n",
       "      <th>uid</th>\n",
       "      <th>iid</th>\n",
       "      <th>rui</th>\n",
       "      <th>est</th>\n",
       "      <th>details</th>\n",
       "      <th>Iu</th>\n",
       "      <th>Ui</th>\n",
       "      <th>err</th>\n",
       "    </tr>\n",
       "  </thead>\n",
       "  <tbody>\n",
       "    <tr>\n",
       "      <th>2448</th>\n",
       "      <td>AYICV8N9QCSBE</td>\n",
       "      <td>B0000AZJY6</td>\n",
       "      <td>5.0</td>\n",
       "      <td>5.000000</td>\n",
       "      <td>{'was_impossible': False}</td>\n",
       "      <td>4</td>\n",
       "      <td>331</td>\n",
       "      <td>0.000000</td>\n",
       "    </tr>\n",
       "    <tr>\n",
       "      <th>1436</th>\n",
       "      <td>A1V3PCKVCJ3TTZ</td>\n",
       "      <td>B000EORV8Q</td>\n",
       "      <td>5.0</td>\n",
       "      <td>5.000000</td>\n",
       "      <td>{'was_impossible': False}</td>\n",
       "      <td>11</td>\n",
       "      <td>167</td>\n",
       "      <td>0.000000</td>\n",
       "    </tr>\n",
       "    <tr>\n",
       "      <th>2457</th>\n",
       "      <td>A1FR68QH6Z4YZM</td>\n",
       "      <td>B000050ZRE</td>\n",
       "      <td>5.0</td>\n",
       "      <td>5.000000</td>\n",
       "      <td>{'was_impossible': False}</td>\n",
       "      <td>6</td>\n",
       "      <td>172</td>\n",
       "      <td>0.000000</td>\n",
       "    </tr>\n",
       "    <tr>\n",
       "      <th>3131</th>\n",
       "      <td>A1I7HLVM8OHMCF</td>\n",
       "      <td>B000EORV8Q</td>\n",
       "      <td>5.0</td>\n",
       "      <td>5.000000</td>\n",
       "      <td>{'was_impossible': False}</td>\n",
       "      <td>6</td>\n",
       "      <td>167</td>\n",
       "      <td>0.000000</td>\n",
       "    </tr>\n",
       "    <tr>\n",
       "      <th>3695</th>\n",
       "      <td>A26LD9FQHTM8ZH</td>\n",
       "      <td>B00EZKNY8G</td>\n",
       "      <td>4.0</td>\n",
       "      <td>3.999950</td>\n",
       "      <td>{'was_impossible': False}</td>\n",
       "      <td>9</td>\n",
       "      <td>15</td>\n",
       "      <td>0.000050</td>\n",
       "    </tr>\n",
       "    <tr>\n",
       "      <th>3778</th>\n",
       "      <td>A1IO93OKI5A23F</td>\n",
       "      <td>B0013O54P8</td>\n",
       "      <td>2.0</td>\n",
       "      <td>1.999949</td>\n",
       "      <td>{'was_impossible': False}</td>\n",
       "      <td>5</td>\n",
       "      <td>30</td>\n",
       "      <td>0.000051</td>\n",
       "    </tr>\n",
       "    <tr>\n",
       "      <th>4200</th>\n",
       "      <td>A2FRKEXDXDN1KI</td>\n",
       "      <td>B0000DFHQ3</td>\n",
       "      <td>4.0</td>\n",
       "      <td>3.999625</td>\n",
       "      <td>{'was_impossible': False}</td>\n",
       "      <td>5</td>\n",
       "      <td>1</td>\n",
       "      <td>0.000375</td>\n",
       "    </tr>\n",
       "    <tr>\n",
       "      <th>66</th>\n",
       "      <td>A3G7BEJJCPD6DS</td>\n",
       "      <td>B00BFNCFZ4</td>\n",
       "      <td>4.0</td>\n",
       "      <td>4.000692</td>\n",
       "      <td>{'was_impossible': False}</td>\n",
       "      <td>15</td>\n",
       "      <td>17</td>\n",
       "      <td>0.000692</td>\n",
       "    </tr>\n",
       "    <tr>\n",
       "      <th>2192</th>\n",
       "      <td>A34VRVI4CSI5RQ</td>\n",
       "      <td>B0002D0KX2</td>\n",
       "      <td>4.0</td>\n",
       "      <td>3.999167</td>\n",
       "      <td>{'was_impossible': False}</td>\n",
       "      <td>12</td>\n",
       "      <td>1</td>\n",
       "      <td>0.000833</td>\n",
       "    </tr>\n",
       "    <tr>\n",
       "      <th>3948</th>\n",
       "      <td>A15S4XW3CRISZ5</td>\n",
       "      <td>B00005B0C2</td>\n",
       "      <td>4.0</td>\n",
       "      <td>4.000848</td>\n",
       "      <td>{'was_impossible': False}</td>\n",
       "      <td>46</td>\n",
       "      <td>2</td>\n",
       "      <td>0.000848</td>\n",
       "    </tr>\n",
       "  </tbody>\n",
       "</table>\n",
       "</div>"
      ],
      "text/plain": [
       "                 uid         iid  rui  ...  Iu   Ui       err\n",
       "2448   AYICV8N9QCSBE  B0000AZJY6  5.0  ...   4  331  0.000000\n",
       "1436  A1V3PCKVCJ3TTZ  B000EORV8Q  5.0  ...  11  167  0.000000\n",
       "2457  A1FR68QH6Z4YZM  B000050ZRE  5.0  ...   6  172  0.000000\n",
       "3131  A1I7HLVM8OHMCF  B000EORV8Q  5.0  ...   6  167  0.000000\n",
       "3695  A26LD9FQHTM8ZH  B00EZKNY8G  4.0  ...   9   15  0.000050\n",
       "3778  A1IO93OKI5A23F  B0013O54P8  2.0  ...   5   30  0.000051\n",
       "4200  A2FRKEXDXDN1KI  B0000DFHQ3  4.0  ...   5    1  0.000375\n",
       "66    A3G7BEJJCPD6DS  B00BFNCFZ4  4.0  ...  15   17  0.000692\n",
       "2192  A34VRVI4CSI5RQ  B0002D0KX2  4.0  ...  12    1  0.000833\n",
       "3948  A15S4XW3CRISZ5  B00005B0C2  4.0  ...  46    2  0.000848\n",
       "\n",
       "[10 rows x 8 columns]"
      ]
     },
     "execution_count": 13,
     "metadata": {
      "tags": []
     },
     "output_type": "execute_result"
    }
   ],
   "source": [
    "def get_Iu(uid):\n",
    "    \"\"\" return the number of items rated by given user\n",
    "    args: \n",
    "      uid: the id of the user\n",
    "    returns: \n",
    "      the number of items rated by the user\n",
    "    \"\"\"\n",
    "    try:\n",
    "        return len(trainset.ur[trainset.to_inner_uid(uid)])\n",
    "    except ValueError: # user was not part of the trainset\n",
    "        return 0\n",
    "    \n",
    "def get_Ui(iid):\n",
    "    \"\"\" return number of users that have rated given item\n",
    "    args:\n",
    "      iid: the raw id of the item\n",
    "    returns:\n",
    "      the number of users that have rated the item.\n",
    "    \"\"\"\n",
    "    try: \n",
    "        return len(trainset.ir[trainset.to_inner_iid(iid)])\n",
    "    except ValueError:\n",
    "        return 0\n",
    "    \n",
    "df_preds = pd.DataFrame(predictions, columns=['uid', 'iid', 'rui', 'est', 'details'])\n",
    "df_preds['Iu'] = df_preds.uid.apply(get_Iu)\n",
    "df_preds['Ui'] = df_preds.iid.apply(get_Ui)\n",
    "df_preds['err'] = abs(df_preds.est - df_preds.rui)\n",
    "best_predictions = df_preds.sort_values(by='err')[:10]\n",
    "worst_predictions = df_preds.sort_values(by='err')[-10:]\n",
    "\n",
    "best_predictions"
   ]
  },
  {
   "cell_type": "code",
   "execution_count": null,
   "metadata": {
    "colab": {
     "base_uri": "https://localhost:8080/",
     "height": 359
    },
    "id": "V1QAql7Q2BHk",
    "outputId": "8cde4f85-eb53-42f9-cf95-c0ba5e6b1f3c"
   },
   "outputs": [
    {
     "data": {
      "text/html": [
       "<div>\n",
       "<style scoped>\n",
       "    .dataframe tbody tr th:only-of-type {\n",
       "        vertical-align: middle;\n",
       "    }\n",
       "\n",
       "    .dataframe tbody tr th {\n",
       "        vertical-align: top;\n",
       "    }\n",
       "\n",
       "    .dataframe thead th {\n",
       "        text-align: right;\n",
       "    }\n",
       "</style>\n",
       "<table border=\"1\" class=\"dataframe\">\n",
       "  <thead>\n",
       "    <tr style=\"text-align: right;\">\n",
       "      <th></th>\n",
       "      <th>uid</th>\n",
       "      <th>iid</th>\n",
       "      <th>rui</th>\n",
       "      <th>est</th>\n",
       "      <th>details</th>\n",
       "      <th>Iu</th>\n",
       "      <th>Ui</th>\n",
       "      <th>err</th>\n",
       "    </tr>\n",
       "  </thead>\n",
       "  <tbody>\n",
       "    <tr>\n",
       "      <th>4815</th>\n",
       "      <td>A1ZBYJ4ET9FZNC</td>\n",
       "      <td>B00002JV62</td>\n",
       "      <td>1.0</td>\n",
       "      <td>4.374636</td>\n",
       "      <td>{'was_impossible': False}</td>\n",
       "      <td>6</td>\n",
       "      <td>1</td>\n",
       "      <td>3.374636</td>\n",
       "    </tr>\n",
       "    <tr>\n",
       "      <th>2633</th>\n",
       "      <td>A2FUGL44X83UV4</td>\n",
       "      <td>B00UB76290</td>\n",
       "      <td>1.0</td>\n",
       "      <td>4.399670</td>\n",
       "      <td>{'was_impossible': False}</td>\n",
       "      <td>5</td>\n",
       "      <td>71</td>\n",
       "      <td>3.399670</td>\n",
       "    </tr>\n",
       "    <tr>\n",
       "      <th>762</th>\n",
       "      <td>A2LQRY6QU7KQY7</td>\n",
       "      <td>B009CCVMO0</td>\n",
       "      <td>1.0</td>\n",
       "      <td>4.408493</td>\n",
       "      <td>{'was_impossible': False}</td>\n",
       "      <td>4</td>\n",
       "      <td>33</td>\n",
       "      <td>3.408493</td>\n",
       "    </tr>\n",
       "    <tr>\n",
       "      <th>3767</th>\n",
       "      <td>A9P4Q7KX35RS2</td>\n",
       "      <td>B00OW2PHF0</td>\n",
       "      <td>1.0</td>\n",
       "      <td>4.431176</td>\n",
       "      <td>{'was_impossible': False}</td>\n",
       "      <td>11</td>\n",
       "      <td>17</td>\n",
       "      <td>3.431176</td>\n",
       "    </tr>\n",
       "    <tr>\n",
       "      <th>3763</th>\n",
       "      <td>A3C2O6SS4ITQHC</td>\n",
       "      <td>B005S4Y13K</td>\n",
       "      <td>1.0</td>\n",
       "      <td>4.435390</td>\n",
       "      <td>{'was_impossible': False}</td>\n",
       "      <td>3</td>\n",
       "      <td>59</td>\n",
       "      <td>3.435390</td>\n",
       "    </tr>\n",
       "    <tr>\n",
       "      <th>6084</th>\n",
       "      <td>A5R1VT4MTNZKT</td>\n",
       "      <td>B00EZKNYWC</td>\n",
       "      <td>1.0</td>\n",
       "      <td>4.444749</td>\n",
       "      <td>{'was_impossible': False}</td>\n",
       "      <td>4</td>\n",
       "      <td>24</td>\n",
       "      <td>3.444749</td>\n",
       "    </tr>\n",
       "    <tr>\n",
       "      <th>1868</th>\n",
       "      <td>A1ZQS1402K66SZ</td>\n",
       "      <td>B005S4Y65I</td>\n",
       "      <td>1.0</td>\n",
       "      <td>4.502896</td>\n",
       "      <td>{'was_impossible': False}</td>\n",
       "      <td>4</td>\n",
       "      <td>25</td>\n",
       "      <td>3.502896</td>\n",
       "    </tr>\n",
       "    <tr>\n",
       "      <th>3089</th>\n",
       "      <td>A20ZQBUF37U01H</td>\n",
       "      <td>B00F8K9L3Y</td>\n",
       "      <td>1.0</td>\n",
       "      <td>4.537862</td>\n",
       "      <td>{'was_impossible': False}</td>\n",
       "      <td>4</td>\n",
       "      <td>13</td>\n",
       "      <td>3.537862</td>\n",
       "    </tr>\n",
       "    <tr>\n",
       "      <th>5753</th>\n",
       "      <td>A2BKVMWLF786XU</td>\n",
       "      <td>B01617VQJ4</td>\n",
       "      <td>1.0</td>\n",
       "      <td>4.539941</td>\n",
       "      <td>{'was_impossible': False}</td>\n",
       "      <td>4</td>\n",
       "      <td>49</td>\n",
       "      <td>3.539941</td>\n",
       "    </tr>\n",
       "    <tr>\n",
       "      <th>5831</th>\n",
       "      <td>AK8GQ08WTHW4G</td>\n",
       "      <td>B0144NYEY6</td>\n",
       "      <td>1.0</td>\n",
       "      <td>4.572268</td>\n",
       "      <td>{'was_impossible': False}</td>\n",
       "      <td>2</td>\n",
       "      <td>37</td>\n",
       "      <td>3.572268</td>\n",
       "    </tr>\n",
       "  </tbody>\n",
       "</table>\n",
       "</div>"
      ],
      "text/plain": [
       "                 uid         iid  rui  ...  Iu  Ui       err\n",
       "4815  A1ZBYJ4ET9FZNC  B00002JV62  1.0  ...   6   1  3.374636\n",
       "2633  A2FUGL44X83UV4  B00UB76290  1.0  ...   5  71  3.399670\n",
       "762   A2LQRY6QU7KQY7  B009CCVMO0  1.0  ...   4  33  3.408493\n",
       "3767   A9P4Q7KX35RS2  B00OW2PHF0  1.0  ...  11  17  3.431176\n",
       "3763  A3C2O6SS4ITQHC  B005S4Y13K  1.0  ...   3  59  3.435390\n",
       "6084   A5R1VT4MTNZKT  B00EZKNYWC  1.0  ...   4  24  3.444749\n",
       "1868  A1ZQS1402K66SZ  B005S4Y65I  1.0  ...   4  25  3.502896\n",
       "3089  A20ZQBUF37U01H  B00F8K9L3Y  1.0  ...   4  13  3.537862\n",
       "5753  A2BKVMWLF786XU  B01617VQJ4  1.0  ...   4  49  3.539941\n",
       "5831   AK8GQ08WTHW4G  B0144NYEY6  1.0  ...   2  37  3.572268\n",
       "\n",
       "[10 rows x 8 columns]"
      ]
     },
     "execution_count": 14,
     "metadata": {
      "tags": []
     },
     "output_type": "execute_result"
    }
   ],
   "source": [
    "worst_predictions"
   ]
  },
  {
   "cell_type": "markdown",
   "metadata": {
    "id": "a6tqsj434Vmg"
   },
   "source": [
    "## SVD \n",
    "Matrix factorization"
   ]
  },
  {
   "cell_type": "code",
   "execution_count": null,
   "metadata": {
    "id": "sw4tZhJL2Bgd"
   },
   "outputs": [],
   "source": [
    "def get_top_n(predictions, n=10):\n",
    "    \"\"\"Return the top-N recommendation for each user from a set of predictions.\n",
    "\n",
    "    Args:\n",
    "        predictions(list of Prediction objects): The list of predictions, as\n",
    "            returned by the test method of an algorithm.\n",
    "        n(int): The number of recommendation to output for each user. Default\n",
    "            is 10.\n",
    "\n",
    "    Returns:\n",
    "    A dict where keys are user (raw) ids and values are lists of tuples:\n",
    "        [(raw item id, rating estimation), ...] of size n.\n",
    "    \"\"\"\n",
    "\n",
    "    # First map the predictions to each user.\n",
    "    top_n = defaultdict(list)\n",
    "    for uid, iid, true_r, est, _ in predictions:\n",
    "        top_n[uid].append((iid, est))\n",
    "\n",
    "    # Then sort the predictions for each user and retrieve the k highest ones.\n",
    "    for uid, user_ratings in top_n.items():\n",
    "        user_ratings.sort(key=lambda x: x[1], reverse=True)\n",
    "        top_n[uid] = user_ratings[:n]\n",
    "\n",
    "    return top_n\n",
    "    "
   ]
  },
  {
   "cell_type": "code",
   "execution_count": null,
   "metadata": {
    "colab": {
     "base_uri": "https://localhost:8080/"
    },
    "id": "fiVp41m42PaB",
    "outputId": "1f27343f-9875-450a-e419-cc3b37285040"
   },
   "outputs": [
    {
     "name": "stdout",
     "output_type": "stream",
     "text": [
      "Ajuste\n",
      "CPU times: user 1.21 s, sys: 3.78 ms, total: 1.21 s\n",
      "Wall time: 1.22 s\n",
      "Predicciones\n",
      "CPU times: user 39.7 ms, sys: 5.96 ms, total: 45.7 ms\n",
      "Wall time: 40.6 ms\n",
      "A2DV14M0BC6YY1 ['B00KZMYZEA', 'B014SOKD9Q', 'B00VQCULBY', 'B00UBKB40Y']\n",
      "A2FN62SIDTG54G ['B00EZPXOTA']\n",
      "A36788MO8I0URE ['B00UB76290', 'B008XAXAC4']\n",
      "AIOBOYCO1TPKR ['B0000AZJY6', 'B0001FS9NE']\n",
      "A3GVJ88EHS08RZ ['B00004SC2M']\n",
      "A1W41I7MW62L9R ['B00HRQB28Y', 'B005CSAE92']\n",
      "A2NOJVQUPKPTEI ['B004PIPG2A']\n",
      "A1ER6IYOMM8VCT ['B004DTLWZ6', 'B004PIPG2A', 'B002JB3BC2', 'B004QK8FBG', 'B003HCA7GA', 'B003ZRTDPS']\n",
      "A261P36T13YP98 ['B00N4OLGP2']\n",
      "A1Q0OFY99JXU43 ['B000050ZRE', 'B0000AZJY6']\n"
     ]
    }
   ],
   "source": [
    "algo = SVD()\n",
    "print('Ajuste')\n",
    "%time algo.fit(trainset)\n",
    "\n",
    "# Than predict ratings for all pairs (u, i) that are NOT in the training set.\n",
    "# testset = trainset.build_anti_testset()\n",
    "print('Predicciones')\n",
    "%time predictions = algo.test(testset)\n",
    "\n",
    "top_n = get_top_n(predictions, n=10)\n",
    "\n",
    "# Print the recommended items for each user\n",
    "for uid, user_ratings in itertools.islice(top_n.items(), 10):\n",
    "    print(uid, [iid for (iid, _) in user_ratings])"
   ]
  },
  {
   "cell_type": "code",
   "execution_count": null,
   "metadata": {
    "colab": {
     "base_uri": "https://localhost:8080/"
    },
    "id": "xrDQiMec4lvi",
    "outputId": "d8ffe8e0-f20e-426b-9666-2435702b5cfc"
   },
   "outputs": [
    {
     "name": "stdout",
     "output_type": "stream",
     "text": [
      "precision\n",
      "0.42643634522905594\n",
      "recall\n",
      "0.3700263290240511\n",
      "\n",
      "precision\n",
      "0.42177012364370425\n",
      "recall\n",
      "0.3699425448384571\n",
      "\n",
      "precision\n",
      "0.42502239283429305\n",
      "recall\n",
      "0.37654327757974587\n",
      "\n",
      "precision\n",
      "0.42497455470737916\n",
      "recall\n",
      "0.37210926795850446\n",
      "\n",
      "precision\n",
      "0.4240599593495935\n",
      "recall\n",
      "0.3729925012318306\n",
      "\n",
      "CPU times: user 6.59 s, sys: 18.7 ms, total: 6.61 s\n",
      "Wall time: 6.63 s\n"
     ]
    }
   ],
   "source": [
    "def precision_recall_at_k(predictions, k=10, threshold=3.5):\n",
    "    \"\"\"Return precision and recall at k metrics for each user\"\"\"\n",
    "\n",
    "    # First map the predictions to each user.\n",
    "    user_est_true = defaultdict(list)\n",
    "    for uid, _, true_r, est, _ in predictions:\n",
    "        user_est_true[uid].append((est, true_r))\n",
    "\n",
    "    precisions = dict()\n",
    "    recalls = dict()\n",
    "    for uid, user_ratings in user_est_true.items():\n",
    "\n",
    "        # Sort user ratings by estimated value\n",
    "        user_ratings.sort(key=lambda x: x[0], reverse=True)\n",
    "\n",
    "        # Number of relevant items\n",
    "        n_rel = sum((true_r >= threshold) for (_, true_r) in user_ratings)\n",
    "\n",
    "        # Number of recommended items in top k\n",
    "        n_rec_k = sum((est >= threshold) for (est, _) in user_ratings[:k])\n",
    "\n",
    "        # Number of relevant and recommended items in top k\n",
    "        n_rel_and_rec_k = sum(((true_r >= threshold) and (est >= threshold))\n",
    "                              for (est, true_r) in user_ratings[:k])\n",
    "\n",
    "        # Precision@K: Proportion of recommended items that are relevant\n",
    "        # When n_rec_k is 0, Precision is undefined. We here set it to 0.\n",
    "\n",
    "        precisions[uid] = n_rel_and_rec_k / n_rec_k if n_rec_k != 0 else 0\n",
    "\n",
    "        # Recall@K: Proportion of relevant items that are recommended\n",
    "        # When n_rel is 0, Recall is undefined. We here set it to 0.\n",
    "\n",
    "        recalls[uid] = n_rel_and_rec_k / n_rel if n_rel != 0 else 0\n",
    "\n",
    "    return precisions, recalls\n",
    "\n",
    "def test_precision_recall(algo, data):\n",
    "    kf = KFold(n_splits=5)\n",
    "    for trainset, testset in kf.split(data):\n",
    "        algo.fit(trainset)\n",
    "        predictions = algo.test(testset)\n",
    "        precisions, recalls = precision_recall_at_k(predictions, k=5, threshold=4)\n",
    "    \n",
    "        # Precision and recall can then be averaged over all users\n",
    "        print('precision')\n",
    "        print(sum(prec for prec in precisions.values()) / len(precisions))\n",
    "        print('recall')\n",
    "        print(sum(rec for rec in recalls.values()) / len(recalls))\n",
    "        print()\n",
    "\n",
    "\n",
    "%time test_precision_recall(algo, data)"
   ]
  },
  {
   "cell_type": "code",
   "execution_count": null,
   "metadata": {
    "colab": {
     "base_uri": "https://localhost:8080/"
    },
    "id": "bFFB0vlGH7ys",
    "outputId": "a3038093-40a4-48fc-dd20-ba113f8d814a"
   },
   "outputs": [
    {
     "name": "stdout",
     "output_type": "stream",
     "text": [
      "CPU times: user 1min 32s, sys: 455 ms, total: 1min 32s\n",
      "Wall time: 1min 32s\n",
      "CPU times: user 2.88 ms, sys: 5.01 ms, total: 7.89 ms\n",
      "Wall time: 7.85 ms\n"
     ]
    }
   ],
   "source": [
    "\n",
    "param_grid = {'n_factors': [50,100,150],'n_epochs': [20,30], 'lr_all': [0.005,0.01],'reg_all':[0.02,0.1]}\n",
    "gs = GridSearchCV(SVD, param_grid, measures=['rmse'], cv=3)\n",
    "%time gs.fit(data)\n",
    "params = gs.best_params['rmse']\n",
    "%time svdtuned = SVD(n_factors=params['n_factors'], n_epochs=params['n_epochs'],lr_all=params['lr_all'], reg_all=params['reg_all'])"
   ]
  },
  {
   "cell_type": "code",
   "execution_count": null,
   "metadata": {
    "colab": {
     "base_uri": "https://localhost:8080/"
    },
    "id": "VbMHuyECJQrk",
    "outputId": "35b61581-b057-49f9-8ef2-15e9d6405136"
   },
   "outputs": [
    {
     "name": "stdout",
     "output_type": "stream",
     "text": [
      "precision\n",
      "0.46472528866895063\n",
      "recall\n",
      "0.43395916036761095\n",
      "\n",
      "precision\n",
      "0.4644461266717134\n",
      "recall\n",
      "0.4274470398808019\n",
      "\n",
      "precision\n",
      "0.45607895068735027\n",
      "recall\n",
      "0.4233916312803939\n",
      "\n",
      "precision\n",
      "0.46800177170336626\n",
      "recall\n",
      "0.4345913577690343\n",
      "\n",
      "precision\n",
      "0.4615288689362765\n",
      "recall\n",
      "0.43270625122476974\n",
      "\n"
     ]
    }
   ],
   "source": [
    "test_precision_recall(svdtuned, data)"
   ]
  },
  {
   "cell_type": "code",
   "execution_count": null,
   "metadata": {
    "id": "C-xjc1eZJUID"
   },
   "outputs": [],
   "source": []
  }
 ],
 "metadata": {
  "colab": {
   "name": "rec_sys_ml.ipynb",
   "provenance": []
  },
  "kernelspec": {
   "display_name": "Python 3",
   "language": "python",
   "name": "python3"
  },
  "language_info": {
   "codemirror_mode": {
    "name": "ipython",
    "version": 3
   },
   "file_extension": ".py",
   "mimetype": "text/x-python",
   "name": "python",
   "nbconvert_exporter": "python",
   "pygments_lexer": "ipython3",
   "version": "3.7.6"
  }
 },
 "nbformat": 4,
 "nbformat_minor": 1
}
