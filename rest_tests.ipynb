{
 "cells": [
  {
   "cell_type": "code",
   "execution_count": 57,
   "metadata": {},
   "outputs": [],
   "source": [
    "from flask import Flask, render_template, request, jsonify\n",
    "from flaskext.mysql import MySQL\n",
    "from surprise import dump, KNNBasic\n",
    "from tqdm import tqdm\n",
    "from rec_utils import *\n",
    "\n",
    "import pickle\n",
    "import pymysql  # mysql error handling\n",
    "import functools\n",
    "import itertools\n",
    "import json\n",
    "import random\n",
    "\n",
    "import numpy as np\n",
    "import pandas as pd"
   ]
  },
  {
   "cell_type": "code",
   "execution_count": 2,
   "metadata": {},
   "outputs": [],
   "source": [
    "app = Flask(__name__)\n",
    "app.config.from_pyfile('config.py')\n",
    "\n",
    "mysql = MySQL()\n",
    "mysql.init_app(app)\n",
    "\n",
    "conn = mysql.connect()\n",
    "cursor = conn.cursor()"
   ]
  },
  {
   "cell_type": "markdown",
   "metadata": {},
   "source": [
    "## Registro"
   ]
  },
  {
   "cell_type": "code",
   "execution_count": 123,
   "metadata": {},
   "outputs": [],
   "source": [
    "def register(socio):\n",
    "    '''\n",
    "    Args: \n",
    "        Socio es un diccionario con atributos \n",
    "        ('apPaterno', 'apMaterno', 'nombre', 'edad', 'genero', 'email', 'passwd')\n",
    "    \n",
    "    Return:\n",
    "        Diccionario donde el valor para la clave 'email_used' es True si ya existe un email por ingresar, \n",
    "        valor para success True en caso de hacer el registro correctamente.\n",
    "    '''\n",
    "    res = {'email_used': False, 'success': False}\n",
    "    try:\n",
    "        args_order = ('apPaterno', 'apMaterno', 'nombre', 'edad', 'genero', 'email', 'passwd')\n",
    "        args = tuple(socio[arg] for arg in args_order)\n",
    "        cursor.callproc('insert_socio', args)\n",
    "        res['success'] = True\n",
    "    except pymysql.err.IntegrityError as err:\n",
    "        if 'c_uniq_email_passwd' in str(err):\n",
    "            res['email_used'] = True\n",
    "        print(err)\n",
    "    finally:\n",
    "        conn.commit()    \n",
    "        return res"
   ]
  },
  {
   "cell_type": "code",
   "execution_count": 125,
   "metadata": {},
   "outputs": [
    {
     "data": {
      "text/plain": [
       "{'email_used': False, 'success': True}"
      ]
     },
     "execution_count": 125,
     "metadata": {},
     "output_type": "execute_result"
    }
   ],
   "source": [
    "socio = {\"apPaterno\": \"Mendoza\", \"apMaterno\": \"Hernandez\", \"nombre\": \"Alma\", \n",
    "        \"edad\": 22, \"genero\": \"F\", \"email\": \"almis@gmail.com\", \"passwd\": \"frio\"}\n",
    "register(socio)"
   ]
  },
  {
   "cell_type": "code",
   "execution_count": 126,
   "metadata": {},
   "outputs": [
    {
     "name": "stdout",
     "output_type": "stream",
     "text": [
      "(1062, \"Duplicate entry 'almis@gmail.com' for key 'socio.c_uniq_email_passwd'\")\n"
     ]
    },
    {
     "data": {
      "text/plain": [
       "{'email_used': True, 'success': False}"
      ]
     },
     "execution_count": 126,
     "metadata": {},
     "output_type": "execute_result"
    }
   ],
   "source": [
    "register(socio)"
   ]
  },
  {
   "cell_type": "code",
   "execution_count": 127,
   "metadata": {},
   "outputs": [
    {
     "name": "stdout",
     "output_type": "stream",
     "text": [
      "(1062, \"Duplicate entry 'almis@gmail.com' for key 'socio.c_uniq_email_passwd'\")\n"
     ]
    },
    {
     "data": {
      "text/plain": [
       "{'email_used': True, 'success': False}"
      ]
     },
     "execution_count": 127,
     "metadata": {},
     "output_type": "execute_result"
    }
   ],
   "source": [
    "socio = {\"apPaterno\": \"Fragoso\", \"apMaterno\": \"Hernandez\", \"nombre\": \"Abigail\", \n",
    "        \"edad\": 19, \"genero\": \"F\", \"email\": \"almis@gmail.com\", \"passwd\": \"frio\"}\n",
    "register(socio)"
   ]
  },
  {
   "cell_type": "markdown",
   "metadata": {},
   "source": [
    "## Login"
   ]
  },
  {
   "cell_type": "code",
   "execution_count": 85,
   "metadata": {},
   "outputs": [],
   "source": [
    "def login(email, passwd):\n",
    "    cursor.execute('select passwd, idSocio from socio where email = %s ', email)\n",
    "    passwd_id_from_db = cursor.fetchone()\n",
    "    res = {'email_found': False, 'correct_passwd': False, 'idSocio': False}\n",
    "    if passwd_id_from_db:\n",
    "        res['email_found'] = True\n",
    "        res['correct_passwd'] = passwd == passwd_id_from_db[0]\n",
    "        if res['correct_passwd']:\n",
    "            res['idSocio'] = passwd_id_from_db[1]\n",
    "    return res"
   ]
  },
  {
   "cell_type": "code",
   "execution_count": 128,
   "metadata": {},
   "outputs": [
    {
     "data": {
      "text/plain": [
       "{'email_found': True,\n",
       " 'correct_passwd': True,\n",
       " 'idSocio': '1f3fd27234c16bd01f4c'}"
      ]
     },
     "execution_count": 128,
     "metadata": {},
     "output_type": "execute_result"
    }
   ],
   "source": [
    "email, passwd = 'almis@gmail.com', 'frio'\n",
    "login(email, passwd)"
   ]
  },
  {
   "cell_type": "code",
   "execution_count": 129,
   "metadata": {},
   "outputs": [
    {
     "data": {
      "text/plain": [
       "{'email_found': True, 'correct_passwd': False, 'idSocio': False}"
      ]
     },
     "execution_count": 129,
     "metadata": {},
     "output_type": "execute_result"
    }
   ],
   "source": [
    "passwd = 'incorrecto'\n",
    "login(email, passwd)"
   ]
  },
  {
   "cell_type": "code",
   "execution_count": 130,
   "metadata": {},
   "outputs": [
    {
     "data": {
      "text/plain": [
       "{'email_found': False, 'correct_passwd': False, 'idSocio': False}"
      ]
     },
     "execution_count": 130,
     "metadata": {},
     "output_type": "execute_result"
    }
   ],
   "source": [
    "email = 'noexiste@gmail.com'\n",
    "login(email, 'falsooo')"
   ]
  },
  {
   "cell_type": "markdown",
   "metadata": {},
   "source": [
    "## product info"
   ]
  },
  {
   "cell_type": "code",
   "execution_count": 70,
   "metadata": {},
   "outputs": [],
   "source": [
    "def get_product_info(raw_iid):\n",
    "    cursor.execute('DESC producto')\n",
    "    attrs = list(map(lambda x: x[0], cursor.fetchall()))\n",
    "\n",
    "    query = f\"SELECT {', '.join(attrs)} FROM producto WHERE idProducto = %s\"\n",
    "    raw_iid = 'B005FIWTHO'\n",
    "    cursor.execute(query, raw_iid)\n",
    "    return {a: value for a, value in zip(attrs, cursor.fetchone())}\n",
    "\n",
    "def get_products_info(raw_iids):\n",
    "    cursor.execute('DESC producto')\n",
    "    attrs = list(map(lambda x: x[0], cursor.fetchall()))\n",
    "    query = f\"\"\"SELECT {', '.join(attrs)} FROM producto \n",
    "                    WHERE idProducto in (\n",
    "                            {', '.join(map(lambda x: '\"' + x + '\"', raw_iids))})\"\"\"\n",
    "    cursor.execute(query)\n",
    "    res = []\n",
    "    for info in cursor.fetchall():\n",
    "        res.append({a: value for a, value in zip(attrs, info)})\n",
    "    return res"
   ]
  },
  {
   "cell_type": "code",
   "execution_count": 16,
   "metadata": {},
   "outputs": [
    {
     "data": {
      "text/plain": [
       "{'idProducto': 'B005FIWTHO',\n",
       " 'nombre': 'Quicken Premier 2012',\n",
       " 'marca': 'Intuit',\n",
       " 'precioUnitario': 44.96298689479438,\n",
       " 'idSubCat': 17}"
      ]
     },
     "execution_count": 16,
     "metadata": {},
     "output_type": "execute_result"
    }
   ],
   "source": [
    "raw_iid = 'B005FIWTHO'\n",
    "get_product_info(raw_iid)"
   ]
  },
  {
   "cell_type": "code",
   "execution_count": 17,
   "metadata": {},
   "outputs": [
    {
     "name": "stdout",
     "output_type": "stream",
     "text": [
      "SELECT idProducto, nombre, marca, precioUnitario, idSubCat FROM producto \n",
      "                    WHERE idProducto in (\n",
      "                            \"B005FIWTHO\", \"B0053WX3AY\", \"B00EZPXYP4\", \"B00BFNCFZ4\", \"B0013QQWQG\", \"B0123C60EW\", \"B015724RQI\", \"B000HCZ8EO\", \"B00LC9UU6C\", \"B000X86ZAS\")\n"
     ]
    },
    {
     "data": {
      "text/plain": [
       "[{'idProducto': 'B000HCZ8EO',\n",
       "  'nombre': 'Microsoft Office Home and Student 2007 [Old Version]',\n",
       "  'marca': 'Microsoft',\n",
       "  'precioUnitario': 149.99,\n",
       "  'idSubCat': 17},\n",
       " {'idProducto': 'B000X86ZAS',\n",
       "  'nombre': 'Microsoft Office 2008 for Mac Home &amp; Student Edition [Old Version]',\n",
       "  'marca': 'Microsoft',\n",
       "  'precioUnitario': 3.0,\n",
       "  'idSubCat': 17},\n",
       " {'idProducto': 'B0013QQWQG',\n",
       "  'nombre': 'Office 97 Professional With Bookshelf Basics',\n",
       "  'marca': 'Microsoft',\n",
       "  'precioUnitario': 44.96298689479438,\n",
       "  'idSubCat': 17},\n",
       " {'idProducto': 'B0053WX3AY',\n",
       "  'nombre': 'Dragon NaturallySpeaking Home, European Version 11.5',\n",
       "  'marca': 'Nuance Communications, Inc.',\n",
       "  'precioUnitario': 44.96298689479438,\n",
       "  'idSubCat': 17},\n",
       " {'idProducto': 'B005FIWTHO',\n",
       "  'nombre': 'Quicken Premier 2012',\n",
       "  'marca': 'Intuit',\n",
       "  'precioUnitario': 44.96298689479438,\n",
       "  'idSubCat': 17},\n",
       " {'idProducto': 'B00BFNCFZ4',\n",
       "  'nombre': 'VideoStudio Pro X6 [OLD VERSION]',\n",
       "  'marca': 'Corel',\n",
       "  'precioUnitario': 19.95,\n",
       "  'idSubCat': 17},\n",
       " {'idProducto': 'B00EZPXYP4',\n",
       "  'nombre': 'NORTON 360 21.0 EN 1U 3LIC MM',\n",
       "  'marca': 'Symantec',\n",
       "  'precioUnitario': 44.96298689479438,\n",
       "  'idSubCat': 17},\n",
       " {'idProducto': 'B00LC9UU6C',\n",
       "  'nombre': 'Kaspersky Internet Security 2015 (3 PCs) [OLD VERSION]',\n",
       "  'marca': 'Kaspersky',\n",
       "  'precioUnitario': 39.99,\n",
       "  'idSubCat': 17},\n",
       " {'idProducto': 'B0123C60EW',\n",
       "  'nombre': 'Corel PaintShop Pro X8 [Old Version]',\n",
       "  'marca': 'Corel',\n",
       "  'precioUnitario': 44.96298689479438,\n",
       "  'idSubCat': 17},\n",
       " {'idProducto': 'B015724RQI',\n",
       "  'nombre': 'Norton Security Premium &ndash; 10 Devices &ndash; 1 Year Subscription - Instant Download - 2019 Ready',\n",
       "  'marca': 'Symantec',\n",
       "  'precioUnitario': 54.99,\n",
       "  'idSubCat': 17}]"
      ]
     },
     "execution_count": 17,
     "metadata": {},
     "output_type": "execute_result"
    }
   ],
   "source": [
    "raw_iids = ['B005FIWTHO','B0053WX3AY','B00EZPXYP4','B00BFNCFZ4',\n",
    "            'B0013QQWQG','B0123C60EW','B015724RQI','B000HCZ8EO',\n",
    "            'B00LC9UU6C','B000X86ZAS']\n",
    "get_products_info(raw_iids)"
   ]
  },
  {
   "cell_type": "code",
   "execution_count": 18,
   "metadata": {},
   "outputs": [
    {
     "name": "stdout",
     "output_type": "stream",
     "text": [
      "SELECT idProducto, nombre, marca, precioUnitario, idSubCat FROM producto \n",
      "                    WHERE idProducto in (\n",
      "                            \"B000SAUFBG\", \"B0013WO6QS\", \"B004E9SKF0\", \"B005EJ2J1K\", \"B00C79J0YE\", \"B00005ICD3\", \"B00008CQPH\")\n"
     ]
    },
    {
     "data": {
      "text/plain": [
       "[{'idProducto': 'B00005ICD3',\n",
       "  'nombre': 'Rosetta Stone V2: Hebrew Level 1 [OLD VERSION]',\n",
       "  'marca': 'Rosetta Stone',\n",
       "  'precioUnitario': 44.96298689479438,\n",
       "  'idSubCat': 17},\n",
       " {'idProducto': 'B00008CQPH',\n",
       "  'nombre': 'VCOM Partition Commander 8.0',\n",
       "  'marca': 'V Communications',\n",
       "  'precioUnitario': 44.96298689479438,\n",
       "  'idSubCat': 17},\n",
       " {'idProducto': 'B000SAUFBG',\n",
       "  'nombre': 'Partition Commander 10',\n",
       "  'marca': 'Avanquest',\n",
       "  'precioUnitario': 44.8,\n",
       "  'idSubCat': 17},\n",
       " {'idProducto': 'B0013WO6QS',\n",
       "  'nombre': 'Norton 360 Version 2.0 Premier Edition [Old Version]',\n",
       "  'marca': 'Symantec',\n",
       "  'precioUnitario': 44.96298689479438,\n",
       "  'idSubCat': 17},\n",
       " {'idProducto': 'B004E9SKF0',\n",
       "  'nombre': 'Microsoft Office Home &amp; Business 2010 - 1 User-2 PC [Download]',\n",
       "  'marca': 'Microsoft',\n",
       "  'precioUnitario': 44.96298689479438,\n",
       "  'idSubCat': 17},\n",
       " {'idProducto': 'B005EJ2J1K',\n",
       "  'nombre': 'Bitdefender AntiVirus Plus 2012 Standard M2 - 3Pc/1 Year [Old Version]',\n",
       "  'marca': 'Bitdefender',\n",
       "  'precioUnitario': 44.96298689479438,\n",
       "  'idSubCat': 17},\n",
       " {'idProducto': 'B00C79J0YE',\n",
       "  'nombre': 'Wondershare PDF Editor [Download]',\n",
       "  'marca': 'Wondershare Software, LLC',\n",
       "  'precioUnitario': 69.95,\n",
       "  'idSubCat': 17}]"
      ]
     },
     "execution_count": 18,
     "metadata": {},
     "output_type": "execute_result"
    }
   ],
   "source": [
    "raw_iids = ['B000SAUFBG', 'B0013WO6QS', 'B004E9SKF0', 'B005EJ2J1K',\n",
    "       'B00C79J0YE', 'B00005ICD3', 'B00008CQPH']\n",
    "get_products_info(raw_iids)"
   ]
  },
  {
   "cell_type": "code",
   "execution_count": null,
   "metadata": {},
   "outputs": [],
   "source": []
  },
  {
   "cell_type": "markdown",
   "metadata": {},
   "source": [
    "## Recomendaciones "
   ]
  },
  {
   "cell_type": "code",
   "execution_count": 62,
   "metadata": {},
   "outputs": [],
   "source": [
    "# load the algo\n",
    "# file_name = 'algo.model'\n",
    "# wdir = './model/'\n",
    "# _, algo = dump.load(wdir + file_name)"
   ]
  },
  {
   "cell_type": "code",
   "execution_count": 49,
   "metadata": {},
   "outputs": [],
   "source": [
    "# get an instance of the algo\n",
    "sim_options = {'name': 'pearson', 'user_based': False}\n",
    "algo = KNNBasic(sim_options=sim_options)\n",
    "# %time algo.fit(trainset=trainset)\n",
    "# preds = algo.test(testset)"
   ]
  },
  {
   "cell_type": "code",
   "execution_count": 63,
   "metadata": {},
   "outputs": [
    {
     "name": "stdout",
     "output_type": "stream",
     "text": [
      "Computing the pearson similarity matrix...\n",
      "Done computing similarity matrix.\n",
      "Computing the pearson similarity matrix...\n",
      "Done computing similarity matrix.\n"
     ]
    }
   ],
   "source": [
    "# config to keep same experiments\n",
    "my_seed = 0\n",
    "random.seed(my_seed)\n",
    "np.random.seed(my_seed)\n",
    "\n",
    "# load csv to build trainset, required to recommend\n",
    "cols = ['reviewerID', 'asin', 'overall']\n",
    "df_reviews = pd.read_csv('./model/software_reviews.csv')\n",
    "trainset, testset = train_test_from_df(df_reviews, cols, test_size=0.2)\n",
    "\n",
    "# train the model\n",
    "algo.fit(trainset)\n",
    "sims = algo.compute_similarities()"
   ]
  },
  {
   "cell_type": "code",
   "execution_count": 64,
   "metadata": {},
   "outputs": [
    {
     "data": {
      "text/plain": [
       "['B005FIWTHO',\n",
       " 'B0053WX3AY',\n",
       " 'B00EZPXYP4',\n",
       " 'B00BFNCFZ4',\n",
       " 'B0013QQWQG',\n",
       " 'B0123C60EW',\n",
       " 'B015724RQI',\n",
       " 'B000HCZ8EO',\n",
       " 'B00LC9UU6C',\n",
       " 'B000X86ZAS']"
      ]
     },
     "execution_count": 64,
     "metadata": {},
     "output_type": "execute_result"
    }
   ],
   "source": [
    "raw_uid = testset[0][0]\n",
    "raw_iids = get_top_item_based(algo, raw_uid, trainset, sims)  # if raw_id not in trainset it raises error\n",
    "raw_iids"
   ]
  },
  {
   "cell_type": "markdown",
   "metadata": {},
   "source": [
    "If there's no uid in trainset ValueError is raised."
   ]
  },
  {
   "cell_type": "code",
   "execution_count": 76,
   "metadata": {},
   "outputs": [
    {
     "name": "stderr",
     "output_type": "stream",
     "text": [
      "100%|██████████| 4378/4378 [00:47<00:00, 91.41it/s] \n"
     ]
    }
   ],
   "source": [
    "not_in_trainset = []\n",
    "for uid in tqdm(map(lambda x: x[0], testset), total=len(testset)):\n",
    "    try:\n",
    "        get_top_item_based(algo, uid, trainset, sims)\n",
    "    except ValueError as e:\n",
    "        not_in_trainset.append(uid)\n"
   ]
  },
  {
   "cell_type": "code",
   "execution_count": 66,
   "metadata": {},
   "outputs": [
    {
     "data": {
      "text/plain": [
       "11"
      ]
     },
     "execution_count": 66,
     "metadata": {},
     "output_type": "execute_result"
    }
   ],
   "source": [
    "len(not_in_trainset)"
   ]
  },
  {
   "cell_type": "code",
   "execution_count": 77,
   "metadata": {},
   "outputs": [
    {
     "data": {
      "text/plain": [
       "[{'idProducto': 'B000PIJT6I',\n",
       "  'nombre': '3D Home Architect Home &amp; Landscape Design [Old Version]',\n",
       "  'marca': 'Encore',\n",
       "  'precioUnitario': 44.96298689479438,\n",
       "  'idSubCat': 17},\n",
       " {'idProducto': 'B00597EEIS',\n",
       "  'nombre': 'PDF Fusion [Download]',\n",
       "  'marca': 'Corel',\n",
       "  'precioUnitario': 49.99,\n",
       "  'idSubCat': 17},\n",
       " {'idProducto': 'B00EDWBAUK',\n",
       "  'nombre': 'Paragon Migrate OS to SSD 3.0 [Download]',\n",
       "  'marca': 'Paragon Software Group',\n",
       "  'precioUnitario': 19.95,\n",
       "  'idSubCat': 17},\n",
       " {'idProducto': 'B00MUY6KY4',\n",
       "  'nombre': 'Trend Micro Maximum Security 2015 - 3 Devices  [OLD VERSION]',\n",
       "  'marca': 'Trend Micro',\n",
       "  'precioUnitario': 44.96298689479438,\n",
       "  'idSubCat': 17},\n",
       " {'idProducto': 'B012KPMWZI',\n",
       "  'nombre': 'WinX DVD Ripper Platinum V7 [Download]',\n",
       "  'marca': 'Digiarty Software',\n",
       "  'precioUnitario': 44.96298689479438,\n",
       "  'idSubCat': 17}]"
      ]
     },
     "execution_count": 77,
     "metadata": {},
     "output_type": "execute_result"
    }
   ],
   "source": [
    "uid = testset[1][0]\n",
    "uid_ratings = df_reviews[df_reviews.reviewerID == uid].asin.values\n",
    "get_products_info(uid_ratings)"
   ]
  },
  {
   "cell_type": "code",
   "execution_count": 78,
   "metadata": {},
   "outputs": [
    {
     "data": {
      "text/plain": [
       "[{'idProducto': 'B000Q6ZK3K',\n",
       "  'nombre': 'Microsoft Works 9.0',\n",
       "  'marca': 'Microsoft',\n",
       "  'precioUnitario': 44.96298689479438,\n",
       "  'idSubCat': 17},\n",
       " {'idProducto': 'B001LQO4P4',\n",
       "  'nombre': ' Roxio Easy VHS to DVD [Old Version]\" />',\n",
       "  'marca': 'Roxio',\n",
       "  'precioUnitario': 49.68,\n",
       "  'idSubCat': 17},\n",
       " {'idProducto': 'B001TYYZCA',\n",
       "  'nombre': 'Corel Painter 11 [OLD VERSION]',\n",
       "  'marca': 'Corel',\n",
       "  'precioUnitario': 44.96298689479438,\n",
       "  'idSubCat': 17},\n",
       " {'idProducto': 'B002DHLUWK',\n",
       "  'nombre': 'Microsoft Windows 7 Home Premium Upgrade [Old Version]',\n",
       "  'marca': 'Microsoft',\n",
       "  'precioUnitario': 218.83,\n",
       "  'idSubCat': 17},\n",
       " {'idProducto': 'B004Y46PAC',\n",
       "  'nombre': 'CyberLink PowerDVD 11 Ultra V.11',\n",
       "  'marca': 'Cyberlink',\n",
       "  'precioUnitario': 44.96298689479438,\n",
       "  'idSubCat': 17},\n",
       " {'idProducto': 'B00EDSI7QO',\n",
       "  'nombre': 'Microsoft Windows 8.1 - Full Version',\n",
       "  'marca': 'Microsoft',\n",
       "  'precioUnitario': 165.99,\n",
       "  'idSubCat': 17},\n",
       " {'idProducto': 'B00LC9UU6C',\n",
       "  'nombre': 'Kaspersky Internet Security 2015 (3 PCs) [OLD VERSION]',\n",
       "  'marca': 'Kaspersky',\n",
       "  'precioUnitario': 39.99,\n",
       "  'idSubCat': 17},\n",
       " {'idProducto': 'B00MUY6LL6',\n",
       "  'nombre': 'Trend Micro Premium Security 2015 - 5 Devices [OLD VERSION][OLD VERSION]',\n",
       "  'marca': 'Trend Micro',\n",
       "  'precioUnitario': 44.96298689479438,\n",
       "  'idSubCat': 17},\n",
       " {'idProducto': 'B00MYXTCIM',\n",
       "  'nombre': 'TurboTax Home &amp; Business 2014 Fed + State + Fed Efile Tax Software - Win [Download] OLD VERSION',\n",
       "  'marca': 'by\\n    \\n    Intuit',\n",
       "  'precioUnitario': 44.96298689479438,\n",
       "  'idSubCat': 17},\n",
       " {'idProducto': 'B01F7RJHIQ',\n",
       "  'nombre': 'Microsoft Office Home and Student 2010 Family Pack, 3PC (Disc Version)',\n",
       "  'marca': 'Microsoft',\n",
       "  'precioUnitario': 259.99,\n",
       "  'idSubCat': 17}]"
      ]
     },
     "execution_count": 78,
     "metadata": {},
     "output_type": "execute_result"
    }
   ],
   "source": [
    "iid_recs = get_top_item_based(algo, uid, trainset, sims)  # if raw_id not in trainset it raises error\n",
    "get_products_info(iid_recs)"
   ]
  },
  {
   "cell_type": "code",
   "execution_count": 79,
   "metadata": {},
   "outputs": [],
   "source": [
    "def get_recommends(uid):\n",
    "    res = {'was_possible': False}\n",
    "    try:\n",
    "        iid_recs = get_top_item_based(algo, uid, trainset, sims)  # if raw_id not in trainset it raises error\n",
    "        res['products'] = get_products_info(iid_recs)\n",
    "        res['was_possible'] = True\n",
    "    except ValueError as e:\n",
    "        pass\n",
    "    return res\n",
    "    "
   ]
  },
  {
   "cell_type": "code",
   "execution_count": 80,
   "metadata": {},
   "outputs": [
    {
     "data": {
      "text/plain": [
       "{'was_possible': True,\n",
       " 'products': [{'idProducto': 'B000Q6ZK3K',\n",
       "   'nombre': 'Microsoft Works 9.0',\n",
       "   'marca': 'Microsoft',\n",
       "   'precioUnitario': 44.96298689479438,\n",
       "   'idSubCat': 17},\n",
       "  {'idProducto': 'B001LQO4P4',\n",
       "   'nombre': ' Roxio Easy VHS to DVD [Old Version]\" />',\n",
       "   'marca': 'Roxio',\n",
       "   'precioUnitario': 49.68,\n",
       "   'idSubCat': 17},\n",
       "  {'idProducto': 'B001TYYZCA',\n",
       "   'nombre': 'Corel Painter 11 [OLD VERSION]',\n",
       "   'marca': 'Corel',\n",
       "   'precioUnitario': 44.96298689479438,\n",
       "   'idSubCat': 17},\n",
       "  {'idProducto': 'B002DHLUWK',\n",
       "   'nombre': 'Microsoft Windows 7 Home Premium Upgrade [Old Version]',\n",
       "   'marca': 'Microsoft',\n",
       "   'precioUnitario': 218.83,\n",
       "   'idSubCat': 17},\n",
       "  {'idProducto': 'B004Y46PAC',\n",
       "   'nombre': 'CyberLink PowerDVD 11 Ultra V.11',\n",
       "   'marca': 'Cyberlink',\n",
       "   'precioUnitario': 44.96298689479438,\n",
       "   'idSubCat': 17},\n",
       "  {'idProducto': 'B00EDSI7QO',\n",
       "   'nombre': 'Microsoft Windows 8.1 - Full Version',\n",
       "   'marca': 'Microsoft',\n",
       "   'precioUnitario': 165.99,\n",
       "   'idSubCat': 17},\n",
       "  {'idProducto': 'B00LC9UU6C',\n",
       "   'nombre': 'Kaspersky Internet Security 2015 (3 PCs) [OLD VERSION]',\n",
       "   'marca': 'Kaspersky',\n",
       "   'precioUnitario': 39.99,\n",
       "   'idSubCat': 17},\n",
       "  {'idProducto': 'B00MUY6LL6',\n",
       "   'nombre': 'Trend Micro Premium Security 2015 - 5 Devices [OLD VERSION][OLD VERSION]',\n",
       "   'marca': 'Trend Micro',\n",
       "   'precioUnitario': 44.96298689479438,\n",
       "   'idSubCat': 17},\n",
       "  {'idProducto': 'B00MYXTCIM',\n",
       "   'nombre': 'TurboTax Home &amp; Business 2014 Fed + State + Fed Efile Tax Software - Win [Download] OLD VERSION',\n",
       "   'marca': 'by\\n    \\n    Intuit',\n",
       "   'precioUnitario': 44.96298689479438,\n",
       "   'idSubCat': 17},\n",
       "  {'idProducto': 'B01F7RJHIQ',\n",
       "   'nombre': 'Microsoft Office Home and Student 2010 Family Pack, 3PC (Disc Version)',\n",
       "   'marca': 'Microsoft',\n",
       "   'precioUnitario': 259.99,\n",
       "   'idSubCat': 17}]}"
      ]
     },
     "execution_count": 80,
     "metadata": {},
     "output_type": "execute_result"
    }
   ],
   "source": [
    "get_recommends(uid)"
   ]
  },
  {
   "cell_type": "code",
   "execution_count": null,
   "metadata": {},
   "outputs": [],
   "source": []
  },
  {
   "cell_type": "code",
   "execution_count": null,
   "metadata": {},
   "outputs": [],
   "source": []
  },
  {
   "cell_type": "code",
   "execution_count": null,
   "metadata": {},
   "outputs": [],
   "source": []
  },
  {
   "cell_type": "code",
   "execution_count": null,
   "metadata": {},
   "outputs": [],
   "source": []
  }
 ],
 "metadata": {
  "kernelspec": {
   "display_name": "Python 3",
   "language": "python",
   "name": "python3"
  },
  "language_info": {
   "codemirror_mode": {
    "name": "ipython",
    "version": 3
   },
   "file_extension": ".py",
   "mimetype": "text/x-python",
   "name": "python",
   "nbconvert_exporter": "python",
   "pygments_lexer": "ipython3",
   "version": "3.7.6"
  }
 },
 "nbformat": 4,
 "nbformat_minor": 4
}
