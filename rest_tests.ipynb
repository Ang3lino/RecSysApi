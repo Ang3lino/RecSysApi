{
 "cells": [
  {
   "cell_type": "code",
   "execution_count": 1,
   "metadata": {},
   "outputs": [],
   "source": [
    "from flask import Flask, render_template, request, jsonify\n",
    "from flaskext.mysql import MySQL\n",
    "\n",
    "import itertools\n",
    "import json\n"
   ]
  },
  {
   "cell_type": "code",
   "execution_count": 4,
   "metadata": {},
   "outputs": [],
   "source": [
    "app = Flask(__name__)\n",
    "app.config.from_pyfile('config.py')\n",
    "\n",
    "mysql = MySQL()\n",
    "mysql.init_app(app)\n",
    "\n",
    "conn = mysql.connect()\n",
    "cursor = conn.cursor()"
   ]
  },
  {
   "cell_type": "code",
   "execution_count": 56,
   "metadata": {},
   "outputs": [],
   "source": [
    "def register(socio):\n",
    "    args_order = ('apPaterno', 'apMaterno', 'nombre', 'edad', 'genero', 'email', 'passwd')\n",
    "    args = tuple(socio[arg] for arg in args_order)\n",
    "    cursor.callproc('insert_socio', args)\n",
    "    conn.commit()    \n",
    "    \n",
    "\n",
    "socio = {\"apPaterno\": \"Mendoza\", \"apMaterno\": \"Hernandez\", \"nombre\": \"Alma\", \n",
    "        \"edad\": 22, \"genero\": \"F\", \"email\": \"test@email.com\", \"passwd\": \"frio\"}\n",
    "register(socio)"
   ]
  },
  {
   "cell_type": "code",
   "execution_count": 82,
   "metadata": {},
   "outputs": [
    {
     "data": {
      "text/plain": [
       "('7c716645d3d05615bf3d', 'frio')"
      ]
     },
     "execution_count": 82,
     "metadata": {},
     "output_type": "execute_result"
    }
   ],
   "source": [
    "cursor.execute('select idSocio, passwd from socio where email = %s ', email)\n",
    "cursor.fetchone()"
   ]
  },
  {
   "cell_type": "code",
   "execution_count": 68,
   "metadata": {},
   "outputs": [],
   "source": [
    "email = 'noexiste@email.com'\n",
    "cursor.execute('select passwd from socio where email = %s ', email)\n",
    "result = cursor.fetchone()"
   ]
  },
  {
   "cell_type": "code",
   "execution_count": 85,
   "metadata": {},
   "outputs": [],
   "source": [
    "def login(email, passwd):\n",
    "    cursor.execute('select passwd, idSocio from socio where email = %s ', email)\n",
    "    passwd_id_from_db = cursor.fetchone()\n",
    "    res = {'email_found': False, 'correct_passwd': False, 'idSocio': False}\n",
    "    if passwd_id_from_db:\n",
    "        res['email_found'] = True\n",
    "        res['correct_passwd'] = passwd == passwd_id_from_db[0]\n",
    "        if res['correct_passwd']:\n",
    "            res['idSocio'] = passwd_id_from_db[1]\n",
    "    return res"
   ]
  },
  {
   "cell_type": "code",
   "execution_count": 86,
   "metadata": {},
   "outputs": [
    {
     "data": {
      "text/plain": [
       "{'email_found': True,\n",
       " 'correct_passwd': True,\n",
       " 'idSocio': '7c716645d3d05615bf3d'}"
      ]
     },
     "execution_count": 86,
     "metadata": {},
     "output_type": "execute_result"
    }
   ],
   "source": [
    "login(email, passwd)"
   ]
  },
  {
   "cell_type": "code",
   "execution_count": 87,
   "metadata": {},
   "outputs": [
    {
     "data": {
      "text/plain": [
       "{'email_found': True, 'correct_passwd': False, 'idSocio': False}"
      ]
     },
     "execution_count": 87,
     "metadata": {},
     "output_type": "execute_result"
    }
   ],
   "source": [
    "login(email, 'falsooo')"
   ]
  },
  {
   "cell_type": "code",
   "execution_count": null,
   "metadata": {},
   "outputs": [],
   "source": []
  }
 ],
 "metadata": {
  "kernelspec": {
   "display_name": "Python 3",
   "language": "python",
   "name": "python3"
  },
  "language_info": {
   "codemirror_mode": {
    "name": "ipython",
    "version": 3
   },
   "file_extension": ".py",
   "mimetype": "text/x-python",
   "name": "python",
   "nbconvert_exporter": "python",
   "pygments_lexer": "ipython3",
   "version": "3.7.6"
  }
 },
 "nbformat": 4,
 "nbformat_minor": 4
}
