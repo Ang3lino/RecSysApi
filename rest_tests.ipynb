{
 "cells": [
  {
   "cell_type": "code",
   "execution_count": 1,
   "metadata": {},
   "outputs": [],
   "source": [
    "from flask import Flask, render_template, request, jsonify\n",
    "from flaskext.mysql import MySQL\n",
    "from surprise import dump, KNNBasic\n",
    "from tqdm import tqdm\n",
    "from operator import itemgetter\n",
    "\n",
    "import pickle\n",
    "import pymysql  # mysql error handling\n",
    "import functools\n",
    "import itertools\n",
    "import json\n",
    "import random\n",
    "\n",
    "import numpy as np\n",
    "import pandas as pd"
   ]
  },
  {
   "cell_type": "code",
   "execution_count": 2,
   "metadata": {},
   "outputs": [],
   "source": [
    "from rec_utils import *\n",
    "from db_helper import DbHelper"
   ]
  },
  {
   "cell_type": "code",
   "execution_count": 3,
   "metadata": {},
   "outputs": [],
   "source": [
    "app = Flask(__name__)\n",
    "app.config.from_pyfile('config.py')\n",
    "\n",
    "mysql = MySQL()\n",
    "mysql.init_app(app)\n",
    "\n",
    "conn = mysql.connect()\n",
    "cursor = conn.cursor()"
   ]
  },
  {
   "cell_type": "code",
   "execution_count": 4,
   "metadata": {},
   "outputs": [],
   "source": [
    "db = DbHelper(conn, cursor)\n"
   ]
  },
  {
   "cell_type": "markdown",
   "metadata": {},
   "source": [
    "## Registro"
   ]
  },
  {
   "cell_type": "code",
   "execution_count": 5,
   "metadata": {},
   "outputs": [
    {
     "data": {
      "text/plain": [
       "{'email_used': False, 'success': True}"
      ]
     },
     "execution_count": 5,
     "metadata": {},
     "output_type": "execute_result"
    }
   ],
   "source": [
    "socio = {\"apPaterno\": \"Mendoza\", \"apMaterno\": \"Hernandez\", \"nombre\": \"Alma\", \n",
    "        \"edad\": 22, \"genero\": \"F\", \"email\": \"almis@gmail.com\", \"passwd\": \"frio\"}\n",
    "db.register(socio)"
   ]
  },
  {
   "cell_type": "code",
   "execution_count": 6,
   "metadata": {},
   "outputs": [
    {
     "name": "stdout",
     "output_type": "stream",
     "text": [
      "(1062, \"Duplicate entry 'almis@gmail.com' for key 'socio.c_uniq_email_passwd'\")\n"
     ]
    },
    {
     "data": {
      "text/plain": [
       "{'email_used': True, 'success': False}"
      ]
     },
     "execution_count": 6,
     "metadata": {},
     "output_type": "execute_result"
    }
   ],
   "source": [
    "db.register(socio)"
   ]
  },
  {
   "cell_type": "code",
   "execution_count": 7,
   "metadata": {},
   "outputs": [
    {
     "name": "stdout",
     "output_type": "stream",
     "text": [
      "(1062, \"Duplicate entry 'almis@gmail.com' for key 'socio.c_uniq_email_passwd'\")\n"
     ]
    },
    {
     "data": {
      "text/plain": [
       "{'email_used': True, 'success': False}"
      ]
     },
     "execution_count": 7,
     "metadata": {},
     "output_type": "execute_result"
    }
   ],
   "source": [
    "socio = {\"apPaterno\": \"Fragoso\", \"apMaterno\": \"Hernandez\", \"nombre\": \"Abigail\", \n",
    "        \"edad\": 19, \"genero\": \"F\", \"email\": \"almis@gmail.com\", \"passwd\": \"frio\"}\n",
    "db.register(socio)"
   ]
  },
  {
   "cell_type": "code",
   "execution_count": 8,
   "metadata": {},
   "outputs": [],
   "source": [
    "db.delete('delete from socio where passwd = \"frio\"')"
   ]
  },
  {
   "cell_type": "markdown",
   "metadata": {},
   "source": [
    "## Login"
   ]
  },
  {
   "cell_type": "code",
   "execution_count": 9,
   "metadata": {},
   "outputs": [
    {
     "data": {
      "text/plain": [
       "{'email_found': False, 'correct_passwd': False, 'idSocio': False}"
      ]
     },
     "execution_count": 9,
     "metadata": {},
     "output_type": "execute_result"
    }
   ],
   "source": [
    "email, passwd = 'almis@gmail.com', 'frio'\n",
    "db.login(email, passwd)"
   ]
  },
  {
   "cell_type": "code",
   "execution_count": 10,
   "metadata": {},
   "outputs": [
    {
     "data": {
      "text/plain": [
       "{'email_found': False, 'correct_passwd': False, 'idSocio': False}"
      ]
     },
     "execution_count": 10,
     "metadata": {},
     "output_type": "execute_result"
    }
   ],
   "source": [
    "passwd = 'incorrecto'\n",
    "db.login(email, passwd)"
   ]
  },
  {
   "cell_type": "code",
   "execution_count": 11,
   "metadata": {},
   "outputs": [
    {
     "data": {
      "text/plain": [
       "{'email_found': False, 'correct_passwd': False, 'idSocio': False}"
      ]
     },
     "execution_count": 11,
     "metadata": {},
     "output_type": "execute_result"
    }
   ],
   "source": [
    "email = 'noexiste@gmail.com'\n",
    "db.login(email, 'falsooo')"
   ]
  },
  {
   "cell_type": "markdown",
   "metadata": {},
   "source": [
    "## product info"
   ]
  },
  {
   "cell_type": "code",
   "execution_count": 12,
   "metadata": {},
   "outputs": [
    {
     "data": {
      "text/plain": [
       "{'idProducto': 'B005FIWTHO',\n",
       " 'nombre': 'Quicken Premier 2012',\n",
       " 'marca': 'Intuit',\n",
       " 'precioUnitario': 44.96298689479438,\n",
       " 'idSubCat': 17}"
      ]
     },
     "execution_count": 12,
     "metadata": {},
     "output_type": "execute_result"
    }
   ],
   "source": [
    "raw_iid = 'B005FIWTHO'\n",
    "db.get_product_info(raw_iid)"
   ]
  },
  {
   "cell_type": "code",
   "execution_count": 13,
   "metadata": {},
   "outputs": [
    {
     "data": {
      "text/plain": [
       "[{'idProducto': 'B0053WX3AY',\n",
       "  'nombre': 'Dragon NaturallySpeaking Home, European Version 11.5',\n",
       "  'marca': 'Nuance Communications, Inc.',\n",
       "  'precioUnitario': 44.96298689479438,\n",
       "  'idSubCat': 17},\n",
       " {'idProducto': 'B005FIWTHO',\n",
       "  'nombre': 'Quicken Premier 2012',\n",
       "  'marca': 'Intuit',\n",
       "  'precioUnitario': 44.96298689479438,\n",
       "  'idSubCat': 17},\n",
       " {'idProducto': 'B00BFNCFZ4',\n",
       "  'nombre': 'VideoStudio Pro X6 [OLD VERSION]',\n",
       "  'marca': 'Corel',\n",
       "  'precioUnitario': 19.95,\n",
       "  'idSubCat': 17},\n",
       " {'idProducto': 'B00EZPXYP4',\n",
       "  'nombre': 'NORTON 360 21.0 EN 1U 3LIC MM',\n",
       "  'marca': 'Symantec',\n",
       "  'precioUnitario': 44.96298689479438,\n",
       "  'idSubCat': 17}]"
      ]
     },
     "execution_count": 13,
     "metadata": {},
     "output_type": "execute_result"
    }
   ],
   "source": [
    "raw_iids = ['B005FIWTHO','B0053WX3AY','B00EZPXYP4','B00BFNCFZ4']\n",
    "db.get_products_info(raw_iids)"
   ]
  },
  {
   "cell_type": "markdown",
   "metadata": {},
   "source": [
    "## Recomendaciones "
   ]
  },
  {
   "cell_type": "code",
   "execution_count": 14,
   "metadata": {},
   "outputs": [
    {
     "name": "stdout",
     "output_type": "stream",
     "text": [
      "Computing the pearson similarity matrix...\n",
      "Done computing similarity matrix.\n",
      "Computing the pearson similarity matrix...\n",
      "Done computing similarity matrix.\n"
     ]
    }
   ],
   "source": [
    "# load the algo\n",
    "# file_name = 'algo.model'\n",
    "# wdir = './model/'\n",
    "# _, algo = dump.load(wdir + file_name)\n",
    "\n",
    "# config to keep same experiments\n",
    "my_seed = 0\n",
    "random.seed(my_seed)\n",
    "np.random.seed(my_seed)\n",
    "\n",
    "algo, sims, trainset, testset = get_rec_sys_resources()"
   ]
  },
  {
   "cell_type": "code",
   "execution_count": 15,
   "metadata": {},
   "outputs": [
    {
     "data": {
      "text/plain": [
       "('A2JSNRJV7DL5JZ',\n",
       " ['B005FIWTHO',\n",
       "  'B0053WX3AY',\n",
       "  'B00EZPXYP4',\n",
       "  'B00BFNCFZ4',\n",
       "  'B0013QQWQG',\n",
       "  'B0123C60EW',\n",
       "  'B015724RQI',\n",
       "  'B000HCZ8EO',\n",
       "  'B00LC9UU6C',\n",
       "  'B000X86ZAS'])"
      ]
     },
     "execution_count": 15,
     "metadata": {},
     "output_type": "execute_result"
    }
   ],
   "source": [
    "raw_uid = testset[0][0]\n",
    "raw_iids = get_top_item_based(algo, raw_uid, trainset, sims)  # if raw_id not in trainset it raises error\n",
    "raw_uid, raw_iids"
   ]
  },
  {
   "cell_type": "markdown",
   "metadata": {},
   "source": [
    "If there's no uid in trainset ValueError is raised."
   ]
  },
  {
   "cell_type": "code",
   "execution_count": 16,
   "metadata": {},
   "outputs": [
    {
     "name": "stderr",
     "output_type": "stream",
     "text": [
      "100%|██████████| 4378/4378 [01:10<00:00, 62.05it/s] \n"
     ]
    }
   ],
   "source": [
    "not_in_trainset = []\n",
    "for uid in tqdm(map(lambda x: x[0], testset), total=len(testset)):\n",
    "    try:\n",
    "        get_top_item_based(algo, uid, trainset, sims)\n",
    "    except ValueError as e:\n",
    "        not_in_trainset.append(uid)\n"
   ]
  },
  {
   "cell_type": "code",
   "execution_count": 17,
   "metadata": {},
   "outputs": [
    {
     "data": {
      "text/plain": [
       "11"
      ]
     },
     "execution_count": 17,
     "metadata": {},
     "output_type": "execute_result"
    }
   ],
   "source": [
    "len(not_in_trainset)"
   ]
  },
  {
   "cell_type": "code",
   "execution_count": 20,
   "metadata": {},
   "outputs": [
    {
     "data": {
      "text/plain": [
       "[{'idProducto': 'B000HCZ8EO',\n",
       "  'nombre': 'Microsoft Office Home and Student 2007 [Old Version]',\n",
       "  'marca': 'Microsoft',\n",
       "  'precioUnitario': 149.99,\n",
       "  'idSubCat': 17},\n",
       " {'idProducto': 'B004E9SKDM',\n",
       "  'nombre': 'Microsoft Windows 7 Anytime Upgrade (Starter to Home Premium) [Online Code]',\n",
       "  'marca': 'Microsoft',\n",
       "  'precioUnitario': 44.96298689479438,\n",
       "  'idSubCat': 17},\n",
       " {'idProducto': 'B008RA5A00',\n",
       "  'nombre': 'Quicken Deluxe 2013',\n",
       "  'marca': 'Intuit',\n",
       "  'precioUnitario': 44.96298689479438,\n",
       "  'idSubCat': 17},\n",
       " {'idProducto': 'B00BR082FW',\n",
       "  'nombre': 'CCleaner Professional System Optimization Tool  Unlimited Home Use',\n",
       "  'marca': 'Piriform',\n",
       "  'precioUnitario': 44.96298689479438,\n",
       "  'idSubCat': 17}]"
      ]
     },
     "execution_count": 20,
     "metadata": {},
     "output_type": "execute_result"
    }
   ],
   "source": [
    "df_reviews = pd.read_csv('./model/software_reviews.csv')\n",
    "uid_ratings = df_reviews[df_reviews.reviewerID == uid].asin.values\n",
    "db.get_products_info(uid_ratings)[:5]"
   ]
  },
  {
   "cell_type": "code",
   "execution_count": 21,
   "metadata": {},
   "outputs": [
    {
     "data": {
      "text/plain": [
       "[{'idProducto': 'B002SRNS7A',\n",
       "  'nombre': 'Norton Ghost 15.0 - 1 PC',\n",
       "  'marca': 'Symantec',\n",
       "  'precioUnitario': 179.95,\n",
       "  'idSubCat': 17},\n",
       " {'idProducto': 'B005FIWTHO',\n",
       "  'nombre': 'Quicken Premier 2012',\n",
       "  'marca': 'Intuit',\n",
       "  'precioUnitario': 44.96298689479438,\n",
       "  'idSubCat': 17},\n",
       " {'idProducto': 'B00M76N6MO',\n",
       "  'nombre': 'Quicken For Mac Personal Finance &amp; Budgeting Software 2015 [Old Version]',\n",
       "  'marca': 'Intuit',\n",
       "  'precioUnitario': 44.96298689479438,\n",
       "  'idSubCat': 17},\n",
       " {'idProducto': 'B00MUY6LL6',\n",
       "  'nombre': 'Trend Micro Premium Security 2015 - 5 Devices [OLD VERSION][OLD VERSION]',\n",
       "  'marca': 'Trend Micro',\n",
       "  'precioUnitario': 44.96298689479438,\n",
       "  'idSubCat': 17},\n",
       " {'idProducto': 'B00U7LCE6A',\n",
       "  'nombre': 'CCleaner Free [Download]',\n",
       "  'marca': 'Piriform',\n",
       "  'precioUnitario': 44.96298689479438,\n",
       "  'idSubCat': 17}]"
      ]
     },
     "execution_count": 21,
     "metadata": {},
     "output_type": "execute_result"
    }
   ],
   "source": [
    "iid_recs = get_top_item_based(algo, uid, trainset, sims, k=5)  # if raw_id not in trainset it raises error\n",
    "db.get_products_info(iid_recs)"
   ]
  },
  {
   "cell_type": "markdown",
   "metadata": {},
   "source": [
    "## Agregar productos comprados"
   ]
  },
  {
   "cell_type": "code",
   "execution_count": 22,
   "metadata": {},
   "outputs": [
    {
     "data": {
      "text/plain": [
       "{'idSocio': '1',\n",
       " 'idProductos': ['1', '2', '3', '4', '5'],\n",
       " 'cantidades': [1, 1, 1, 1, 1]}"
      ]
     },
     "execution_count": 22,
     "metadata": {},
     "output_type": "execute_result"
    }
   ],
   "source": [
    "req = {\"idSocio\": \"1\", \"idProductos\": [], \"cantidades\": []}\n",
    "cursor.execute(\"SELECT idProducto FROM producto LIMIT 5\")\n",
    "iids = list(map(itemgetter(0), cursor.fetchall()))\n",
    "req[\"idProductos\"] = iids\n",
    "req[\"cantidades\"] = [1 for _ in iids]\n",
    "req"
   ]
  },
  {
   "cell_type": "code",
   "execution_count": 23,
   "metadata": {},
   "outputs": [
    {
     "data": {
      "text/plain": [
       "{'success': True}"
      ]
     },
     "execution_count": 23,
     "metadata": {},
     "output_type": "execute_result"
    }
   ],
   "source": [
    "db.insert_hist(req)"
   ]
  },
  {
   "cell_type": "code",
   "execution_count": 24,
   "metadata": {},
   "outputs": [
    {
     "data": {
      "text/plain": [
       "(('1', '1', datetime.datetime(2021, 1, 8, 17, 9, 56), 1),\n",
       " ('1', '2', datetime.datetime(2021, 1, 8, 17, 9, 56), 1),\n",
       " ('1', '3', datetime.datetime(2021, 1, 8, 17, 9, 56), 1),\n",
       " ('1', '4', datetime.datetime(2021, 1, 8, 17, 9, 56), 1),\n",
       " ('1', '5', datetime.datetime(2021, 1, 8, 17, 9, 56), 1))"
      ]
     },
     "execution_count": 24,
     "metadata": {},
     "output_type": "execute_result"
    }
   ],
   "source": [
    "db.select('select * from historial')"
   ]
  },
  {
   "cell_type": "code",
   "execution_count": 25,
   "metadata": {},
   "outputs": [],
   "source": [
    "db.delete('delete from historial')"
   ]
  },
  {
   "cell_type": "markdown",
   "metadata": {},
   "source": [
    "## Pendiente"
   ]
  },
  {
   "cell_type": "code",
   "execution_count": 26,
   "metadata": {},
   "outputs": [
    {
     "data": {
      "text/plain": [
       "{'success': True}"
      ]
     },
     "execution_count": 26,
     "metadata": {},
     "output_type": "execute_result"
    }
   ],
   "source": [
    "res = {\"idSocio\": \"1\", \"idProducto\": \"1\"}\n",
    "db.insert_pendiente(res)"
   ]
  },
  {
   "cell_type": "code",
   "execution_count": 27,
   "metadata": {},
   "outputs": [
    {
     "data": {
      "text/plain": [
       "(('1', '1'),)"
      ]
     },
     "execution_count": 27,
     "metadata": {},
     "output_type": "execute_result"
    }
   ],
   "source": [
    "db.select('select * from pendiente')"
   ]
  },
  {
   "cell_type": "code",
   "execution_count": 28,
   "metadata": {},
   "outputs": [],
   "source": [
    "db.delete('delete from pendiente')"
   ]
  },
  {
   "cell_type": "code",
   "execution_count": null,
   "metadata": {},
   "outputs": [],
   "source": []
  },
  {
   "cell_type": "code",
   "execution_count": null,
   "metadata": {},
   "outputs": [],
   "source": []
  }
 ],
 "metadata": {
  "kernelspec": {
   "display_name": "Python 3",
   "language": "python",
   "name": "python3"
  },
  "language_info": {
   "codemirror_mode": {
    "name": "ipython",
    "version": 3
   },
   "file_extension": ".py",
   "mimetype": "text/x-python",
   "name": "python",
   "nbconvert_exporter": "python",
   "pygments_lexer": "ipython3",
   "version": "3.7.6"
  }
 },
 "nbformat": 4,
 "nbformat_minor": 4
}
