{
 "cells": [
  {
   "cell_type": "code",
   "execution_count": 4,
   "metadata": {},
   "outputs": [],
   "source": [
    "from flask import Flask, render_template, request, jsonify\n",
    "from flaskext.mysql import MySQL\n",
    "\n",
    "import pymysql  # mysql error handling\n",
    "import itertools\n",
    "import json"
   ]
  },
  {
   "cell_type": "code",
   "execution_count": 5,
   "metadata": {},
   "outputs": [],
   "source": [
    "app = Flask(__name__)\n",
    "app.config.from_pyfile('config.py')\n",
    "\n",
    "mysql = MySQL()\n",
    "mysql.init_app(app)\n",
    "\n",
    "conn = mysql.connect()\n",
    "cursor = conn.cursor()"
   ]
  },
  {
   "cell_type": "markdown",
   "metadata": {},
   "source": [
    "## Registro"
   ]
  },
  {
   "cell_type": "code",
   "execution_count": 123,
   "metadata": {},
   "outputs": [],
   "source": [
    "def register(socio):\n",
    "    '''\n",
    "    Args: \n",
    "        Socio es un diccionario con atributos \n",
    "        ('apPaterno', 'apMaterno', 'nombre', 'edad', 'genero', 'email', 'passwd')\n",
    "    \n",
    "    Return:\n",
    "        Diccionario donde el valor para la clave 'email_used' es True si ya existe un email por ingresar, \n",
    "        valor para success True en caso de hacer el registro correctamente.\n",
    "    '''\n",
    "    res = {'email_used': False, 'success': False}\n",
    "    try:\n",
    "        args_order = ('apPaterno', 'apMaterno', 'nombre', 'edad', 'genero', 'email', 'passwd')\n",
    "        args = tuple(socio[arg] for arg in args_order)\n",
    "        cursor.callproc('insert_socio', args)\n",
    "        res['success'] = True\n",
    "    except pymysql.err.IntegrityError as err:\n",
    "        if 'c_uniq_email_passwd' in str(err):\n",
    "            res['email_used'] = True\n",
    "        print(err)\n",
    "    finally:\n",
    "        conn.commit()    \n",
    "        return res"
   ]
  },
  {
   "cell_type": "code",
   "execution_count": 125,
   "metadata": {},
   "outputs": [
    {
     "data": {
      "text/plain": [
       "{'email_used': False, 'success': True}"
      ]
     },
     "execution_count": 125,
     "metadata": {},
     "output_type": "execute_result"
    }
   ],
   "source": [
    "socio = {\"apPaterno\": \"Mendoza\", \"apMaterno\": \"Hernandez\", \"nombre\": \"Alma\", \n",
    "        \"edad\": 22, \"genero\": \"F\", \"email\": \"almis@gmail.com\", \"passwd\": \"frio\"}\n",
    "register(socio)"
   ]
  },
  {
   "cell_type": "code",
   "execution_count": 126,
   "metadata": {},
   "outputs": [
    {
     "name": "stdout",
     "output_type": "stream",
     "text": [
      "(1062, \"Duplicate entry 'almis@gmail.com' for key 'socio.c_uniq_email_passwd'\")\n"
     ]
    },
    {
     "data": {
      "text/plain": [
       "{'email_used': True, 'success': False}"
      ]
     },
     "execution_count": 126,
     "metadata": {},
     "output_type": "execute_result"
    }
   ],
   "source": [
    "register(socio)"
   ]
  },
  {
   "cell_type": "code",
   "execution_count": 127,
   "metadata": {},
   "outputs": [
    {
     "name": "stdout",
     "output_type": "stream",
     "text": [
      "(1062, \"Duplicate entry 'almis@gmail.com' for key 'socio.c_uniq_email_passwd'\")\n"
     ]
    },
    {
     "data": {
      "text/plain": [
       "{'email_used': True, 'success': False}"
      ]
     },
     "execution_count": 127,
     "metadata": {},
     "output_type": "execute_result"
    }
   ],
   "source": [
    "socio = {\"apPaterno\": \"Fragoso\", \"apMaterno\": \"Hernandez\", \"nombre\": \"Abigail\", \n",
    "        \"edad\": 19, \"genero\": \"F\", \"email\": \"almis@gmail.com\", \"passwd\": \"frio\"}\n",
    "register(socio)"
   ]
  },
  {
   "cell_type": "markdown",
   "metadata": {},
   "source": [
    "## Login"
   ]
  },
  {
   "cell_type": "code",
   "execution_count": 85,
   "metadata": {},
   "outputs": [],
   "source": [
    "def login(email, passwd):\n",
    "    cursor.execute('select passwd, idSocio from socio where email = %s ', email)\n",
    "    passwd_id_from_db = cursor.fetchone()\n",
    "    res = {'email_found': False, 'correct_passwd': False, 'idSocio': False}\n",
    "    if passwd_id_from_db:\n",
    "        res['email_found'] = True\n",
    "        res['correct_passwd'] = passwd == passwd_id_from_db[0]\n",
    "        if res['correct_passwd']:\n",
    "            res['idSocio'] = passwd_id_from_db[1]\n",
    "    return res"
   ]
  },
  {
   "cell_type": "code",
   "execution_count": 128,
   "metadata": {},
   "outputs": [
    {
     "data": {
      "text/plain": [
       "{'email_found': True,\n",
       " 'correct_passwd': True,\n",
       " 'idSocio': '1f3fd27234c16bd01f4c'}"
      ]
     },
     "execution_count": 128,
     "metadata": {},
     "output_type": "execute_result"
    }
   ],
   "source": [
    "email, passwd = 'almis@gmail.com', 'frio'\n",
    "login(email, passwd)"
   ]
  },
  {
   "cell_type": "code",
   "execution_count": 129,
   "metadata": {},
   "outputs": [
    {
     "data": {
      "text/plain": [
       "{'email_found': True, 'correct_passwd': False, 'idSocio': False}"
      ]
     },
     "execution_count": 129,
     "metadata": {},
     "output_type": "execute_result"
    }
   ],
   "source": [
    "passwd = 'incorrecto'\n",
    "login(email, passwd)"
   ]
  },
  {
   "cell_type": "code",
   "execution_count": 130,
   "metadata": {},
   "outputs": [
    {
     "data": {
      "text/plain": [
       "{'email_found': False, 'correct_passwd': False, 'idSocio': False}"
      ]
     },
     "execution_count": 130,
     "metadata": {},
     "output_type": "execute_result"
    }
   ],
   "source": [
    "email = 'noexiste@gmail.com'\n",
    "login(email, 'falsooo')"
   ]
  },
  {
   "cell_type": "markdown",
   "metadata": {},
   "source": [
    "## product info"
   ]
  },
  {
   "cell_type": "code",
   "execution_count": 15,
   "metadata": {},
   "outputs": [],
   "source": [
    "def get_product_info(raw_iid):\n",
    "    cursor.execute('DESC producto')\n",
    "    attrs = list(map(lambda x: x[0], cursor.fetchall()))\n",
    "\n",
    "    query = f\"SELECT {', '.join(attrs)} FROM producto WHERE idProducto = %s\"\n",
    "    raw_iid = 'B005FIWTHO'\n",
    "    cursor.execute(query, raw_iid)\n",
    "    return {a: value for a, value in zip(attrs, cursor.fetchone())}\n",
    "\n",
    "def get_products_info(raw_iids):\n",
    "    cursor.execute('DESC producto')\n",
    "    attrs = list(map(lambda x: x[0], cursor.fetchall()))\n",
    "    query = f\"\"\"SELECT {', '.join(attrs)} FROM producto \n",
    "                    WHERE idProducto in (\n",
    "                            {', '.join(map(lambda x: '\"' + x + '\"', raw_iids))})\"\"\"\n",
    "    cursor.execute(query)\n",
    "    res = []\n",
    "    for info in cursor.fetchall():\n",
    "        res.append({a: value for a, value in zip(attrs, info)})\n",
    "    return res"
   ]
  },
  {
   "cell_type": "code",
   "execution_count": 16,
   "metadata": {},
   "outputs": [
    {
     "data": {
      "text/plain": [
       "{'idProducto': 'B005FIWTHO',\n",
       " 'nombre': 'Quicken Premier 2012',\n",
       " 'marca': 'Intuit',\n",
       " 'precioUnitario': 44.96298689479438,\n",
       " 'idSubCat': 17}"
      ]
     },
     "execution_count": 16,
     "metadata": {},
     "output_type": "execute_result"
    }
   ],
   "source": [
    "raw_iid = 'B005FIWTHO'\n",
    "get_product_info(raw_iid)"
   ]
  },
  {
   "cell_type": "code",
   "execution_count": 17,
   "metadata": {},
   "outputs": [
    {
     "name": "stdout",
     "output_type": "stream",
     "text": [
      "SELECT idProducto, nombre, marca, precioUnitario, idSubCat FROM producto \n",
      "                    WHERE idProducto in (\n",
      "                            \"B005FIWTHO\", \"B0053WX3AY\", \"B00EZPXYP4\", \"B00BFNCFZ4\", \"B0013QQWQG\", \"B0123C60EW\", \"B015724RQI\", \"B000HCZ8EO\", \"B00LC9UU6C\", \"B000X86ZAS\")\n"
     ]
    },
    {
     "data": {
      "text/plain": [
       "[{'idProducto': 'B000HCZ8EO',\n",
       "  'nombre': 'Microsoft Office Home and Student 2007 [Old Version]',\n",
       "  'marca': 'Microsoft',\n",
       "  'precioUnitario': 149.99,\n",
       "  'idSubCat': 17},\n",
       " {'idProducto': 'B000X86ZAS',\n",
       "  'nombre': 'Microsoft Office 2008 for Mac Home &amp; Student Edition [Old Version]',\n",
       "  'marca': 'Microsoft',\n",
       "  'precioUnitario': 3.0,\n",
       "  'idSubCat': 17},\n",
       " {'idProducto': 'B0013QQWQG',\n",
       "  'nombre': 'Office 97 Professional With Bookshelf Basics',\n",
       "  'marca': 'Microsoft',\n",
       "  'precioUnitario': 44.96298689479438,\n",
       "  'idSubCat': 17},\n",
       " {'idProducto': 'B0053WX3AY',\n",
       "  'nombre': 'Dragon NaturallySpeaking Home, European Version 11.5',\n",
       "  'marca': 'Nuance Communications, Inc.',\n",
       "  'precioUnitario': 44.96298689479438,\n",
       "  'idSubCat': 17},\n",
       " {'idProducto': 'B005FIWTHO',\n",
       "  'nombre': 'Quicken Premier 2012',\n",
       "  'marca': 'Intuit',\n",
       "  'precioUnitario': 44.96298689479438,\n",
       "  'idSubCat': 17},\n",
       " {'idProducto': 'B00BFNCFZ4',\n",
       "  'nombre': 'VideoStudio Pro X6 [OLD VERSION]',\n",
       "  'marca': 'Corel',\n",
       "  'precioUnitario': 19.95,\n",
       "  'idSubCat': 17},\n",
       " {'idProducto': 'B00EZPXYP4',\n",
       "  'nombre': 'NORTON 360 21.0 EN 1U 3LIC MM',\n",
       "  'marca': 'Symantec',\n",
       "  'precioUnitario': 44.96298689479438,\n",
       "  'idSubCat': 17},\n",
       " {'idProducto': 'B00LC9UU6C',\n",
       "  'nombre': 'Kaspersky Internet Security 2015 (3 PCs) [OLD VERSION]',\n",
       "  'marca': 'Kaspersky',\n",
       "  'precioUnitario': 39.99,\n",
       "  'idSubCat': 17},\n",
       " {'idProducto': 'B0123C60EW',\n",
       "  'nombre': 'Corel PaintShop Pro X8 [Old Version]',\n",
       "  'marca': 'Corel',\n",
       "  'precioUnitario': 44.96298689479438,\n",
       "  'idSubCat': 17},\n",
       " {'idProducto': 'B015724RQI',\n",
       "  'nombre': 'Norton Security Premium &ndash; 10 Devices &ndash; 1 Year Subscription - Instant Download - 2019 Ready',\n",
       "  'marca': 'Symantec',\n",
       "  'precioUnitario': 54.99,\n",
       "  'idSubCat': 17}]"
      ]
     },
     "execution_count": 17,
     "metadata": {},
     "output_type": "execute_result"
    }
   ],
   "source": [
    "raw_iids = ['B005FIWTHO','B0053WX3AY','B00EZPXYP4','B00BFNCFZ4',\n",
    "            'B0013QQWQG','B0123C60EW','B015724RQI','B000HCZ8EO',\n",
    "            'B00LC9UU6C','B000X86ZAS']\n",
    "get_products_info(raw_iids)"
   ]
  },
  {
   "cell_type": "code",
   "execution_count": 18,
   "metadata": {},
   "outputs": [
    {
     "name": "stdout",
     "output_type": "stream",
     "text": [
      "SELECT idProducto, nombre, marca, precioUnitario, idSubCat FROM producto \n",
      "                    WHERE idProducto in (\n",
      "                            \"B000SAUFBG\", \"B0013WO6QS\", \"B004E9SKF0\", \"B005EJ2J1K\", \"B00C79J0YE\", \"B00005ICD3\", \"B00008CQPH\")\n"
     ]
    },
    {
     "data": {
      "text/plain": [
       "[{'idProducto': 'B00005ICD3',\n",
       "  'nombre': 'Rosetta Stone V2: Hebrew Level 1 [OLD VERSION]',\n",
       "  'marca': 'Rosetta Stone',\n",
       "  'precioUnitario': 44.96298689479438,\n",
       "  'idSubCat': 17},\n",
       " {'idProducto': 'B00008CQPH',\n",
       "  'nombre': 'VCOM Partition Commander 8.0',\n",
       "  'marca': 'V Communications',\n",
       "  'precioUnitario': 44.96298689479438,\n",
       "  'idSubCat': 17},\n",
       " {'idProducto': 'B000SAUFBG',\n",
       "  'nombre': 'Partition Commander 10',\n",
       "  'marca': 'Avanquest',\n",
       "  'precioUnitario': 44.8,\n",
       "  'idSubCat': 17},\n",
       " {'idProducto': 'B0013WO6QS',\n",
       "  'nombre': 'Norton 360 Version 2.0 Premier Edition [Old Version]',\n",
       "  'marca': 'Symantec',\n",
       "  'precioUnitario': 44.96298689479438,\n",
       "  'idSubCat': 17},\n",
       " {'idProducto': 'B004E9SKF0',\n",
       "  'nombre': 'Microsoft Office Home &amp; Business 2010 - 1 User-2 PC [Download]',\n",
       "  'marca': 'Microsoft',\n",
       "  'precioUnitario': 44.96298689479438,\n",
       "  'idSubCat': 17},\n",
       " {'idProducto': 'B005EJ2J1K',\n",
       "  'nombre': 'Bitdefender AntiVirus Plus 2012 Standard M2 - 3Pc/1 Year [Old Version]',\n",
       "  'marca': 'Bitdefender',\n",
       "  'precioUnitario': 44.96298689479438,\n",
       "  'idSubCat': 17},\n",
       " {'idProducto': 'B00C79J0YE',\n",
       "  'nombre': 'Wondershare PDF Editor [Download]',\n",
       "  'marca': 'Wondershare Software, LLC',\n",
       "  'precioUnitario': 69.95,\n",
       "  'idSubCat': 17}]"
      ]
     },
     "execution_count": 18,
     "metadata": {},
     "output_type": "execute_result"
    }
   ],
   "source": [
    "raw_iids = ['B000SAUFBG', 'B0013WO6QS', 'B004E9SKF0', 'B005EJ2J1K',\n",
    "       'B00C79J0YE', 'B00005ICD3', 'B00008CQPH']\n",
    "get_products_info(raw_iids)"
   ]
  },
  {
   "cell_type": "code",
   "execution_count": null,
   "metadata": {},
   "outputs": [],
   "source": []
  }
 ],
 "metadata": {
  "kernelspec": {
   "display_name": "Python 3",
   "language": "python",
   "name": "python3"
  },
  "language_info": {
   "codemirror_mode": {
    "name": "ipython",
    "version": 3
   },
   "file_extension": ".py",
   "mimetype": "text/x-python",
   "name": "python",
   "nbconvert_exporter": "python",
   "pygments_lexer": "ipython3",
   "version": "3.7.6"
  }
 },
 "nbformat": 4,
 "nbformat_minor": 4
}
