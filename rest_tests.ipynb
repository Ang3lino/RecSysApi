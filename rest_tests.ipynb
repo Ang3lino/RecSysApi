{
 "cells": [
  {
   "cell_type": "code",
   "execution_count": 1,
   "metadata": {},
   "outputs": [],
   "source": [
    "from flask import Flask, render_template, request, jsonify\n",
    "from surprise.model_selection import KFold, GridSearchCV\n",
    "from flaskext.mysql import MySQL\n",
    "from surprise import dump, KNNBasic\n",
    "from tqdm import tqdm\n",
    "from operator import itemgetter\n",
    "from scipy import stats\n",
    "\n",
    "import pickle\n",
    "import pymysql  # mysql error handling\n",
    "import functools\n",
    "import itertools\n",
    "import json\n",
    "import random\n",
    "\n",
    "import numpy as np\n",
    "import pandas as pd"
   ]
  },
  {
   "cell_type": "code",
   "execution_count": 2,
   "metadata": {},
   "outputs": [],
   "source": [
    "from rec_utils import *\n",
    "from db_helper import DbHelper"
   ]
  },
  {
   "cell_type": "code",
   "execution_count": 3,
   "metadata": {},
   "outputs": [],
   "source": [
    "app = Flask(__name__)\n",
    "app.config.from_pyfile('config.py')\n",
    "\n",
    "mysql = MySQL()\n",
    "mysql.init_app(app)\n",
    "\n",
    "conn = mysql.connect()\n",
    "cursor = conn.cursor()"
   ]
  },
  {
   "cell_type": "code",
   "execution_count": 4,
   "metadata": {},
   "outputs": [],
   "source": [
    "db = DbHelper(conn, cursor)\n"
   ]
  },
  {
   "cell_type": "markdown",
   "metadata": {},
   "source": [
    "## Registro"
   ]
  },
  {
   "cell_type": "code",
   "execution_count": 5,
   "metadata": {},
   "outputs": [
    {
     "data": {
      "text/plain": [
       "{'email_used': False, 'success': True}"
      ]
     },
     "execution_count": 5,
     "metadata": {},
     "output_type": "execute_result"
    }
   ],
   "source": [
    "socio = {\"apPaterno\": \"Mendoza\", \"apMaterno\": \"Hernandez\", \"nombre\": \"Alma\", \n",
    "        \"edad\": 22, \"genero\": \"F\", \"email\": \"almis@gmail.com\", \"passwd\": \"frio\"}\n",
    "db.register(socio)"
   ]
  },
  {
   "cell_type": "code",
   "execution_count": 6,
   "metadata": {},
   "outputs": [
    {
     "name": "stdout",
     "output_type": "stream",
     "text": [
      "(1062, \"Duplicate entry 'almis@gmail.com' for key 'socio.c_uniq_email_passwd'\")\n"
     ]
    },
    {
     "data": {
      "text/plain": [
       "{'email_used': True, 'success': False}"
      ]
     },
     "execution_count": 6,
     "metadata": {},
     "output_type": "execute_result"
    }
   ],
   "source": [
    "db.register(socio)"
   ]
  },
  {
   "cell_type": "code",
   "execution_count": 7,
   "metadata": {},
   "outputs": [
    {
     "name": "stdout",
     "output_type": "stream",
     "text": [
      "(1062, \"Duplicate entry 'almis@gmail.com' for key 'socio.c_uniq_email_passwd'\")\n"
     ]
    },
    {
     "data": {
      "text/plain": [
       "{'email_used': True, 'success': False}"
      ]
     },
     "execution_count": 7,
     "metadata": {},
     "output_type": "execute_result"
    }
   ],
   "source": [
    "socio = {\"apPaterno\": \"Fragoso\", \"apMaterno\": \"Hernandez\", \"nombre\": \"Abigail\", \n",
    "        \"edad\": 19, \"genero\": \"F\", \"email\": \"almis@gmail.com\", \"passwd\": \"frio\"}\n",
    "db.register(socio)"
   ]
  },
  {
   "cell_type": "code",
   "execution_count": 8,
   "metadata": {},
   "outputs": [],
   "source": [
    "db.write('delete from socio where passwd = \"frio\"')"
   ]
  },
  {
   "cell_type": "markdown",
   "metadata": {},
   "source": [
    "## Login"
   ]
  },
  {
   "cell_type": "code",
   "execution_count": 25,
   "metadata": {},
   "outputs": [
    {
     "data": {
      "text/plain": [
       "{'ok': False}"
      ]
     },
     "execution_count": 25,
     "metadata": {},
     "output_type": "execute_result"
    }
   ],
   "source": [
    "email, passwd = 'AZ0PCEZUTF5QO@gmail.com', 'passfd'\n",
    "db.login(email, passwd)"
   ]
  },
  {
   "cell_type": "code",
   "execution_count": 17,
   "metadata": {},
   "outputs": [
    {
     "data": {
      "text/plain": [
       "<__main__.RespuestaGenerica at 0x7f0a634b6ad0>"
      ]
     },
     "execution_count": 17,
     "metadata": {},
     "output_type": "execute_result"
    }
   ],
   "source": [
    "email, passwd = 'almis@gmail.com', 'frio'\n",
    "db.login(email, passwd)"
   ]
  },
  {
   "cell_type": "code",
   "execution_count": 10,
   "metadata": {},
   "outputs": [
    {
     "data": {
      "text/plain": [
       "{'email_found': False, 'correct_passwd': False, 'idSocio': False}"
      ]
     },
     "execution_count": 10,
     "metadata": {},
     "output_type": "execute_result"
    }
   ],
   "source": [
    "passwd = 'incorrecto'\n",
    "db.login(email, passwd)"
   ]
  },
  {
   "cell_type": "code",
   "execution_count": 11,
   "metadata": {},
   "outputs": [
    {
     "data": {
      "text/plain": [
       "{'email_found': False, 'correct_passwd': False, 'idSocio': False}"
      ]
     },
     "execution_count": 11,
     "metadata": {},
     "output_type": "execute_result"
    }
   ],
   "source": [
    "email = 'noexiste@gmail.com'\n",
    "db.login(email, 'falsooo')"
   ]
  },
  {
   "cell_type": "markdown",
   "metadata": {},
   "source": [
    "## product info"
   ]
  },
  {
   "cell_type": "code",
   "execution_count": 12,
   "metadata": {},
   "outputs": [
    {
     "data": {
      "text/plain": [
       "{'idProducto': 'B005FIWTHO',\n",
       " 'nombre': 'Quicken Premier 2012',\n",
       " 'marca': 'Intuit',\n",
       " 'precioUnitario': 44.96298689479438,\n",
       " 'idSubCat': 17}"
      ]
     },
     "execution_count": 12,
     "metadata": {},
     "output_type": "execute_result"
    }
   ],
   "source": [
    "raw_iid = 'B005FIWTHO'\n",
    "db.get_product_info(raw_iid)"
   ]
  },
  {
   "cell_type": "code",
   "execution_count": 13,
   "metadata": {},
   "outputs": [
    {
     "data": {
      "text/plain": [
       "[{'idProducto': 'B0053WX3AY',\n",
       "  'nombre': 'Dragon NaturallySpeaking Home, European Version 11.5',\n",
       "  'marca': 'Nuance Communications, Inc.',\n",
       "  'precioUnitario': 44.96298689479438,\n",
       "  'idSubCat': 17},\n",
       " {'idProducto': 'B005FIWTHO',\n",
       "  'nombre': 'Quicken Premier 2012',\n",
       "  'marca': 'Intuit',\n",
       "  'precioUnitario': 44.96298689479438,\n",
       "  'idSubCat': 17},\n",
       " {'idProducto': 'B00BFNCFZ4',\n",
       "  'nombre': 'VideoStudio Pro X6 [OLD VERSION]',\n",
       "  'marca': 'Corel',\n",
       "  'precioUnitario': 19.95,\n",
       "  'idSubCat': 17},\n",
       " {'idProducto': 'B00EZPXYP4',\n",
       "  'nombre': 'NORTON 360 21.0 EN 1U 3LIC MM',\n",
       "  'marca': 'Symantec',\n",
       "  'precioUnitario': 44.96298689479438,\n",
       "  'idSubCat': 17}]"
      ]
     },
     "execution_count": 13,
     "metadata": {},
     "output_type": "execute_result"
    }
   ],
   "source": [
    "raw_iids = ['B005FIWTHO','B0053WX3AY','B00EZPXYP4','B00BFNCFZ4']\n",
    "db.get_products_info(raw_iids)"
   ]
  },
  {
   "cell_type": "markdown",
   "metadata": {},
   "source": [
    "## Recomendaciones "
   ]
  },
  {
   "cell_type": "code",
   "execution_count": 21,
   "metadata": {},
   "outputs": [],
   "source": [
    "def get_recs(uid):\n",
    "    \"\"\"\n",
    "    Returns:\n",
    "        {was_possible: bool[, products: list<{idProducto, nombre, marca, precioUnitario, idSubCat}>]}: \n",
    "            was_possible = True Si fue posible generar una recomendacion   \n",
    "            products: Lista de atributos de productos.\n",
    "    \"\"\"\n",
    "    res = {'was_possible': False}\n",
    "    try:\n",
    "        iid_recs = get_top_item_based(algo, uid, trainset, sims)  # if raw_id not in trainset it raises error\n",
    "        res['products'] = db.get_products_info(iid_recs)\n",
    "        res['was_possible'] = True\n",
    "    except ValueError as e:\n",
    "        pass\n",
    "    return res"
   ]
  },
  {
   "cell_type": "code",
   "execution_count": null,
   "metadata": {},
   "outputs": [],
   "source": []
  },
  {
   "cell_type": "code",
   "execution_count": 5,
   "metadata": {},
   "outputs": [],
   "source": [
    "# config to keep same experiments\n",
    "my_seed = 0\n",
    "random.seed(my_seed)\n",
    "np.random.seed(my_seed)"
   ]
  },
  {
   "cell_type": "code",
   "execution_count": 6,
   "metadata": {},
   "outputs": [
    {
     "name": "stdout",
     "output_type": "stream",
     "text": [
      "Computing the pearson similarity matrix...\n",
      "Done computing similarity matrix.\n",
      "Computing the pearson similarity matrix...\n",
      "Done computing similarity matrix.\n"
     ]
    }
   ],
   "source": [
    "algo, sims, trainset, testset = get_rec_sys_resources(fname='software_reviews_with_outliers.csv')"
   ]
  },
  {
   "cell_type": "code",
   "execution_count": 28,
   "metadata": {},
   "outputs": [],
   "source": [
    "uid = testset[0][0]\n",
    "raw_iids = get_top_item_based(algo, uid, trainset, sims)  # if raw_id not in trainset it raises error"
   ]
  },
  {
   "cell_type": "markdown",
   "metadata": {},
   "source": [
    "If there's no uid in trainset ValueError is raised."
   ]
  },
  {
   "cell_type": "code",
   "execution_count": 8,
   "metadata": {},
   "outputs": [
    {
     "name": "stderr",
     "output_type": "stream",
     "text": [
      "100%|██████████| 4378/4378 [00:46<00:00, 93.87it/s] \n"
     ]
    },
    {
     "data": {
      "text/plain": [
       "11"
      ]
     },
     "execution_count": 8,
     "metadata": {},
     "output_type": "execute_result"
    }
   ],
   "source": [
    "not_in_trainset = []\n",
    "for uid in tqdm(map(lambda x: x[0], testset), total=len(testset)):\n",
    "    try:\n",
    "        get_top_item_based(algo, uid, trainset, sims)\n",
    "    except ValueError as e:\n",
    "        not_in_trainset.append(uid)\n",
    "len(not_in_trainset)"
   ]
  },
  {
   "cell_type": "markdown",
   "metadata": {},
   "source": [
    "### valoraciones reales"
   ]
  },
  {
   "cell_type": "code",
   "execution_count": 11,
   "metadata": {},
   "outputs": [
    {
     "data": {
      "text/plain": [
       "{'productsInfo': [{'idProducto': 'B000HCZ8EO',\n",
       "   'nombre': 'Microsoft Office Home and Student 2007 [Old Version]',\n",
       "   'marca': 'Microsoft',\n",
       "   'precioUnitario': 149.99,\n",
       "   'idSubCat': 17},\n",
       "  {'idProducto': 'B004E9SKDM',\n",
       "   'nombre': 'Microsoft Windows 7 Anytime Upgrade (Starter to Home Premium) [Online Code]',\n",
       "   'marca': 'Microsoft',\n",
       "   'precioUnitario': 44.96298689479438,\n",
       "   'idSubCat': 17},\n",
       "  {'idProducto': 'B008RA5A00',\n",
       "   'nombre': 'Quicken Deluxe 2013',\n",
       "   'marca': 'Intuit',\n",
       "   'precioUnitario': 44.96298689479438,\n",
       "   'idSubCat': 17},\n",
       "  {'idProducto': 'B00BR082FW',\n",
       "   'nombre': 'CCleaner Professional System Optimization Tool  Unlimited Home Use',\n",
       "   'marca': 'Piriform',\n",
       "   'precioUnitario': 44.96298689479438,\n",
       "   'idSubCat': 17}]}"
      ]
     },
     "execution_count": 11,
     "metadata": {},
     "output_type": "execute_result"
    }
   ],
   "source": [
    "df = pd.read_csv('./model/software_reviews.csv')\n",
    "uid_ratings = df[df.reviewerID == uid].asin.values\n",
    "db.get_products_info(uid_ratings)"
   ]
  },
  {
   "cell_type": "code",
   "execution_count": 12,
   "metadata": {},
   "outputs": [
    {
     "data": {
      "text/plain": [
       "{'productsInfo': [{'idProducto': 'B002SRNS7A',\n",
       "   'nombre': 'Norton Ghost 15.0 - 1 PC',\n",
       "   'marca': 'Symantec',\n",
       "   'precioUnitario': 179.95,\n",
       "   'idSubCat': 17},\n",
       "  {'idProducto': 'B005FIWTHO',\n",
       "   'nombre': 'Quicken Premier 2012',\n",
       "   'marca': 'Intuit',\n",
       "   'precioUnitario': 44.96298689479438,\n",
       "   'idSubCat': 17},\n",
       "  {'idProducto': 'B00M76N6MO',\n",
       "   'nombre': 'Quicken For Mac Personal Finance &amp; Budgeting Software 2015 [Old Version]',\n",
       "   'marca': 'Intuit',\n",
       "   'precioUnitario': 44.96298689479438,\n",
       "   'idSubCat': 17},\n",
       "  {'idProducto': 'B00MUY6LL6',\n",
       "   'nombre': 'Trend Micro Premium Security 2015 - 5 Devices [OLD VERSION][OLD VERSION]',\n",
       "   'marca': 'Trend Micro',\n",
       "   'precioUnitario': 44.96298689479438,\n",
       "   'idSubCat': 17},\n",
       "  {'idProducto': 'B00U7LCE6A',\n",
       "   'nombre': 'CCleaner Free [Download]',\n",
       "   'marca': 'Piriform',\n",
       "   'precioUnitario': 44.96298689479438,\n",
       "   'idSubCat': 17}]}"
      ]
     },
     "execution_count": 12,
     "metadata": {},
     "output_type": "execute_result"
    }
   ],
   "source": [
    "iid_recs = get_top_item_based(algo, uid, trainset, sims, k=5)  # if raw_id not in trainset it raises error\n",
    "db.get_products_info(iid_recs)"
   ]
  },
  {
   "cell_type": "markdown",
   "metadata": {},
   "source": [
    "## outliers"
   ]
  },
  {
   "cell_type": "code",
   "execution_count": 13,
   "metadata": {},
   "outputs": [
    {
     "name": "stdout",
     "output_type": "stream",
     "text": [
      "[3176, 4494]\n"
     ]
    },
    {
     "data": {
      "text/html": [
       "<div>\n",
       "<style scoped>\n",
       "    .dataframe tbody tr th:only-of-type {\n",
       "        vertical-align: middle;\n",
       "    }\n",
       "\n",
       "    .dataframe tbody tr th {\n",
       "        vertical-align: top;\n",
       "    }\n",
       "\n",
       "    .dataframe thead th {\n",
       "        text-align: right;\n",
       "    }\n",
       "</style>\n",
       "<table border=\"1\" class=\"dataframe\">\n",
       "  <thead>\n",
       "    <tr style=\"text-align: right;\">\n",
       "      <th></th>\n",
       "      <th>overall</th>\n",
       "      <th>reviewerID</th>\n",
       "      <th>asin</th>\n",
       "      <th>reviewerName</th>\n",
       "      <th>unixReviewTime</th>\n",
       "    </tr>\n",
       "  </thead>\n",
       "  <tbody>\n",
       "    <tr>\n",
       "      <th>0</th>\n",
       "      <td>4.0</td>\n",
       "      <td>A38NELQT98S4H8</td>\n",
       "      <td>0321719816</td>\n",
       "      <td>WB Halper</td>\n",
       "      <td>1287532800</td>\n",
       "    </tr>\n",
       "    <tr>\n",
       "      <th>1</th>\n",
       "      <td>4.0</td>\n",
       "      <td>A3QJU4FEN8PQSZ</td>\n",
       "      <td>0321719816</td>\n",
       "      <td>Grimmy</td>\n",
       "      <td>1287360000</td>\n",
       "    </tr>\n",
       "    <tr>\n",
       "      <th>2</th>\n",
       "      <td>5.0</td>\n",
       "      <td>ACJT8MUC0LRF0</td>\n",
       "      <td>0321719816</td>\n",
       "      <td>D. Fowler</td>\n",
       "      <td>1287187200</td>\n",
       "    </tr>\n",
       "    <tr>\n",
       "      <th>3</th>\n",
       "      <td>5.0</td>\n",
       "      <td>AYUF7YETYOLNX</td>\n",
       "      <td>0321719816</td>\n",
       "      <td>Bryan Newman</td>\n",
       "      <td>1286841600</td>\n",
       "    </tr>\n",
       "    <tr>\n",
       "      <th>4</th>\n",
       "      <td>5.0</td>\n",
       "      <td>A31ICLWQ9CSHRS</td>\n",
       "      <td>0321719816</td>\n",
       "      <td>Al Swanson</td>\n",
       "      <td>1286409600</td>\n",
       "    </tr>\n",
       "  </tbody>\n",
       "</table>\n",
       "</div>"
      ],
      "text/plain": [
       "   overall      reviewerID        asin  reviewerName  unixReviewTime\n",
       "0      4.0  A38NELQT98S4H8  0321719816     WB Halper      1287532800\n",
       "1      4.0  A3QJU4FEN8PQSZ  0321719816        Grimmy      1287360000\n",
       "2      5.0   ACJT8MUC0LRF0  0321719816     D. Fowler      1287187200\n",
       "3      5.0   AYUF7YETYOLNX  0321719816  Bryan Newman      1286841600\n",
       "4      5.0  A31ICLWQ9CSHRS  0321719816    Al Swanson      1286409600"
      ]
     },
     "execution_count": 13,
     "metadata": {},
     "output_type": "execute_result"
    }
   ],
   "source": [
    "# df = pd.read_csv('./model/software_reviews_with_outliers.csv')\n",
    "print (list(map(len, (np.unique(df.reviewerID), np.unique(df.asin)))))\n",
    "df.head()"
   ]
  },
  {
   "cell_type": "code",
   "execution_count": 14,
   "metadata": {},
   "outputs": [],
   "source": [
    "# def get_outliers_df(df, group_on, num_col, fun='count', threshold=3.):\n",
    "group_on = 'asin'\n",
    "num_col = 'overall'\n",
    "fun = 'count'\n",
    "threshold = 3."
   ]
  },
  {
   "cell_type": "code",
   "execution_count": 15,
   "metadata": {},
   "outputs": [
    {
     "data": {
      "text/plain": [
       "count    4494.000000\n",
       "mean        4.870271\n",
       "std         8.780852\n",
       "min         1.000000\n",
       "25%         1.000000\n",
       "50%         2.000000\n",
       "75%         4.000000\n",
       "max       128.000000\n",
       "Name: overall, dtype: float64"
      ]
     },
     "execution_count": 15,
     "metadata": {},
     "output_type": "execute_result"
    }
   ],
   "source": [
    "grp = df.groupby(group_on)[num_col]\n",
    "grp = grp.count() if fun == 'count' else grp.sum()\n",
    "z_vals = (grp - grp.mean()) / grp.std()\n",
    "idx = abs(z_vals) > threshold  # idx.index: str, idx.values: bool\n",
    "outlier_ids = idx[idx].index\n",
    "    \n",
    "grp.describe()"
   ]
  },
  {
   "cell_type": "code",
   "execution_count": 16,
   "metadata": {},
   "outputs": [
    {
     "data": {
      "text/plain": [
       "(21887, 5)"
      ]
     },
     "execution_count": 16,
     "metadata": {},
     "output_type": "execute_result"
    }
   ],
   "source": [
    "df_without_outliers = df[~df.asin.isin(outlier_ids)]\n",
    "df_without_outliers.to_csv('./model/software_reviews_no_outliers.csv', index=False)\n",
    "df.shape"
   ]
  },
  {
   "cell_type": "code",
   "execution_count": 17,
   "metadata": {},
   "outputs": [
    {
     "data": {
      "text/plain": [
       "(17791, 5)"
      ]
     },
     "execution_count": 17,
     "metadata": {},
     "output_type": "execute_result"
    }
   ],
   "source": [
    "df_without_outliers.shape"
   ]
  },
  {
   "cell_type": "code",
   "execution_count": 18,
   "metadata": {},
   "outputs": [],
   "source": [
    "reader = Reader(rating_scale=(1, 5), )\n",
    "cols = ['reviewerID', 'asin', 'overall']\n",
    "data = Dataset.load_from_df(df[cols], reader)"
   ]
  },
  {
   "cell_type": "code",
   "execution_count": 19,
   "metadata": {},
   "outputs": [
    {
     "name": "stdout",
     "output_type": "stream",
     "text": [
      "Computing the pearson similarity matrix...\n",
      "Done computing similarity matrix.\n",
      "precision\n",
      "0.15658082975679544\n",
      "recall\n",
      "0.11771936099189315\n",
      "\n",
      "Computing the pearson similarity matrix...\n",
      "Done computing similarity matrix.\n",
      "precision\n",
      "0.14790863668807994\n",
      "recall\n",
      "0.10870925529383778\n",
      "\n",
      "Computing the pearson similarity matrix...\n",
      "Done computing similarity matrix.\n",
      "precision\n",
      "0.1485883030826851\n",
      "recall\n",
      "0.11173963364974604\n",
      "\n",
      "Computing the pearson similarity matrix...\n",
      "Done computing similarity matrix.\n",
      "precision\n",
      "0.15357951329937747\n",
      "recall\n",
      "0.11442467054733609\n",
      "\n",
      "Computing the pearson similarity matrix...\n",
      "Done computing similarity matrix.\n",
      "precision\n",
      "0.15021321961620468\n",
      "recall\n",
      "0.11112092598233325\n",
      "\n"
     ]
    }
   ],
   "source": [
    "sim_options = {'name': 'pearson', 'user_based': False}\n",
    "algo = KNNBasic(sim_options=sim_options)\n",
    "test_precision_recall(algo, data)"
   ]
  },
  {
   "cell_type": "code",
   "execution_count": 20,
   "metadata": {},
   "outputs": [
    {
     "name": "stdout",
     "output_type": "stream",
     "text": [
      "Computing the pearson similarity matrix...\n",
      "Done computing similarity matrix.\n",
      "precision\n",
      "0.06061343719571568\n",
      "recall\n",
      "0.043354430379746844\n",
      "\n",
      "Computing the pearson similarity matrix...\n",
      "Done computing similarity matrix.\n",
      "precision\n",
      "0.06803874092009685\n",
      "recall\n",
      "0.049585495215035164\n",
      "\n",
      "Computing the pearson similarity matrix...\n",
      "Done computing similarity matrix.\n",
      "precision\n",
      "0.06132075471698113\n",
      "recall\n",
      "0.04416553048628521\n",
      "\n",
      "Computing the pearson similarity matrix...\n",
      "Done computing similarity matrix.\n",
      "precision\n",
      "0.07823462228748573\n",
      "recall\n",
      "0.05454460696751445\n",
      "\n",
      "Computing the pearson similarity matrix...\n",
      "Done computing similarity matrix.\n",
      "precision\n",
      "0.06604696673189824\n",
      "recall\n",
      "0.046049995340601994\n",
      "\n"
     ]
    }
   ],
   "source": [
    "reader = Reader(rating_scale=(1, 5), )\n",
    "data = Dataset.load_from_df(df_without_outliers[cols], reader)\n",
    "algo = KNNBasic(sim_options=sim_options)\n",
    "test_precision_recall(algo, data)"
   ]
  },
  {
   "cell_type": "code",
   "execution_count": 29,
   "metadata": {},
   "outputs": [
    {
     "name": "stdout",
     "output_type": "stream",
     "text": [
      "Computing the pearson similarity matrix...\n",
      "Done computing similarity matrix.\n",
      "Computing the pearson similarity matrix...\n",
      "Done computing similarity matrix.\n"
     ]
    }
   ],
   "source": [
    "def get_real_ratings(df, uid):\n",
    "    uid_ratings = df[df.reviewerID == uid].asin.values\n",
    "    return db.get_products_info(uid_ratings)\n",
    "    \n",
    "algo, sims, trainset, testset = get_rec_sys_resources(fname='software_reviews_no_outliers.csv')   \n"
   ]
  },
  {
   "cell_type": "code",
   "execution_count": 30,
   "metadata": {},
   "outputs": [
    {
     "data": {
      "text/plain": [
       "{'productsInfo': [{'idProducto': 'B000HKD8PM',\n",
       "   'nombre': 'Acd Systems ACDSee Photo Editor',\n",
       "   'marca': 'ACD Systems',\n",
       "   'precioUnitario': 44.96298689479438,\n",
       "   'idSubCat': 17},\n",
       "  {'idProducto': 'B001EJVQDG',\n",
       "   'nombre': 'Corel Paint Shop Pro Photo X2 Ultimate [Old Version]',\n",
       "   'marca': 'Corel',\n",
       "   'precioUnitario': 44.96298689479438,\n",
       "   'idSubCat': 17},\n",
       "  {'idProducto': 'B004Q0PT3I',\n",
       "   'nombre': 'Windows 7 Home Premium SP1 64bit (OEM) System Builder DVD 1 Pack [Old Packaging]',\n",
       "   'marca': 'Microsoft',\n",
       "   'precioUnitario': 44.96298689479438,\n",
       "   'idSubCat': 17},\n",
       "  {'idProducto': 'B005VDPOR0',\n",
       "   'nombre': 'Topaz Complete Plug-In Bundle for Photoshop (Mac &amp; Windows)',\n",
       "   'marca': 'Topaz Labs',\n",
       "   'precioUnitario': 44.96298689479438,\n",
       "   'idSubCat': 17},\n",
       "  {'idProducto': 'B00F2BDP9K',\n",
       "   'nombre': 'Cyberlink PowerDirector 12 Ultimate',\n",
       "   'marca': 'Cyberlink',\n",
       "   'precioUnitario': 44.96298689479438,\n",
       "   'idSubCat': 17},\n",
       "  {'idProducto': 'B00NMPZ90Q',\n",
       "   'nombre': 'Adobe Photoshop Elements 13 PC Download [Old Version]',\n",
       "   'marca': 'Adobe',\n",
       "   'precioUnitario': 44.96298689479438,\n",
       "   'idSubCat': 17},\n",
       "  {'idProducto': 'B00OW2PHDM',\n",
       "   'nombre': 'Pinnacle Studio 18 (Old Version)',\n",
       "   'marca': 'by\\n    \\n    Pinnacle Systems',\n",
       "   'precioUnitario': 44.96298689479438,\n",
       "   'idSubCat': 17},\n",
       "  {'idProducto': 'B0153V571W',\n",
       "   'nombre': 'Adobe Photoshop Elements 14 [Download]',\n",
       "   'marca': 'Adobe',\n",
       "   'precioUnitario': 44.96298689479438,\n",
       "   'idSubCat': 17}]}"
      ]
     },
     "execution_count": 30,
     "metadata": {},
     "output_type": "execute_result"
    }
   ],
   "source": [
    "uid = testset[0][0]\n",
    "get_real_ratings(df_without_outliers, uid)"
   ]
  },
  {
   "cell_type": "code",
   "execution_count": 31,
   "metadata": {},
   "outputs": [
    {
     "data": {
      "text/plain": [
       "{'productsInfo': [{'idProducto': 'B009SPL2K0',\n",
       "   'nombre': 'Office Professional 2013 Key Card 1PC/1User',\n",
       "   'marca': 'Microsoft',\n",
       "   'precioUnitario': 44.96298689479438,\n",
       "   'idSubCat': 17},\n",
       "  {'idProducto': 'B00HRQB28Y',\n",
       "   'nombre': 'Sony Movie Studio 13 Suite [OLD VERSION]',\n",
       "   'marca': 'Sony',\n",
       "   'precioUnitario': 29.98,\n",
       "   'idSubCat': 17},\n",
       "  {'idProducto': 'B00O66FYU0',\n",
       "   'nombre': 'Adobe Creative Cloud Photography plan (Photoshop CC + Lightroom) Student and Teacher [Key Card] - Validation Required',\n",
       "   'marca': 'Adobe',\n",
       "   'precioUnitario': 44.96298689479438,\n",
       "   'idSubCat': 17},\n",
       "  {'idProducto': 'B015PIIF80',\n",
       "   'nombre': 'MAGIX Movie Edit Pro 2016',\n",
       "   'marca': 'MAGIX',\n",
       "   'precioUnitario': 15.98,\n",
       "   'idSubCat': 17},\n",
       "  {'idProducto': 'B0169RGE7U',\n",
       "   'nombre': 'Roxio Creator NXT 4 [Old Version]',\n",
       "   'marca': 'Roxio',\n",
       "   'precioUnitario': 29.99,\n",
       "   'idSubCat': 17}]}"
      ]
     },
     "execution_count": 31,
     "metadata": {},
     "output_type": "execute_result"
    }
   ],
   "source": [
    "iid_recs = get_top_item_based(algo, uid, trainset, sims, k=5)  # if raw_id not in trainset it raises error\n",
    "db.get_products_info(iid_recs)"
   ]
  },
  {
   "cell_type": "code",
   "execution_count": null,
   "metadata": {},
   "outputs": [],
   "source": []
  },
  {
   "cell_type": "code",
   "execution_count": 17,
   "metadata": {},
   "outputs": [
    {
     "name": "stdout",
     "output_type": "stream",
     "text": [
      "Computing the pearson similarity matrix...\n",
      "Done computing similarity matrix.\n",
      "0.3412420382165609\n",
      "0.14531583120487446\n",
      "Computing the pearson similarity matrix...\n",
      "Done computing similarity matrix.\n",
      "0.331210191082803\n",
      "0.13600910708216818\n",
      "Computing the pearson similarity matrix...\n",
      "Done computing similarity matrix.\n",
      "0.307714083510262\n",
      "0.13415813126818335\n",
      "Computing the pearson similarity matrix...\n",
      "Done computing similarity matrix.\n",
      "0.320222929936306\n",
      "0.13534876744745641\n",
      "Computing the pearson similarity matrix...\n",
      "Done computing similarity matrix.\n",
      "0.326910828025478\n",
      "0.1352041211100263\n"
     ]
    }
   ],
   "source": [
    "def f():\n",
    "    \n",
    "    data = Dataset.load_builtin('ml-100k')\n",
    "    kf = KFold(n_splits=5)\n",
    "    algo = KNNBasic(sim_options=sim_options)\n",
    "\n",
    "    for trainset, testset in kf.split(data):\n",
    "        algo.fit(trainset)\n",
    "        predictions = algo.test(testset)\n",
    "        precisions, recalls = precision_recall_at_k(predictions, k=5, threshold=4)\n",
    "\n",
    "        # Precision and recall can then be averaged over all users\n",
    "        print(sum(prec for prec in precisions.values()) / len(precisions))\n",
    "        print(sum(rec for rec in recalls.values()) / len(recalls))\n",
    "        \n",
    "        \n",
    "f()"
   ]
  },
  {
   "cell_type": "markdown",
   "metadata": {},
   "source": [
    "## Frio"
   ]
  },
  {
   "cell_type": "code",
   "execution_count": 88,
   "metadata": {},
   "outputs": [],
   "source": [
    "df = pd.read_csv('./model/software_reviews_no_outliers.csv')\n",
    "good_ratings_df = df[df['overall'] >= 4]"
   ]
  },
  {
   "cell_type": "code",
   "execution_count": 87,
   "metadata": {},
   "outputs": [
    {
     "data": {
      "text/plain": [
       "{'productsInfo': [{'idProducto': 'B0017I8NQM',\n",
       "   'nombre': 'Wordperfect Office X4 Standard',\n",
       "   'marca': 'Corel',\n",
       "   'precioUnitario': 44.96298689479438,\n",
       "   'idSubCat': 17},\n",
       "  {'idProducto': 'B005N2CS8M',\n",
       "   'nombre': 'Family Tree Maker Deluxe [OLD VERSION]',\n",
       "   'marca': 'Nova Development US',\n",
       "   'precioUnitario': 44.96298689479438,\n",
       "   'idSubCat': 17},\n",
       "  {'idProducto': 'B008S0IE5M',\n",
       "   'nombre': 'Quicken Home &amp; Business 2013',\n",
       "   'marca': 'Intuit',\n",
       "   'precioUnitario': 44.96298689479438,\n",
       "   'idSubCat': 17},\n",
       "  {'idProducto': 'B0094NY3R0',\n",
       "   'nombre': 'Windows 8 System Builder OEM DVD  64-Bit [Old Packaging]',\n",
       "   'marca': 'Microsoft',\n",
       "   'precioUnitario': 44.96298689479438,\n",
       "   'idSubCat': 17},\n",
       "  {'idProducto': 'B00MHZ71G2',\n",
       "   'nombre': 'Norton Security with Backup (For 10 Devices) [Online Code]',\n",
       "   'marca': 'Symantec',\n",
       "   'precioUnitario': 44.96298689479438,\n",
       "   'idSubCat': 17},\n",
       "  {'idProducto': 'B00O66FYU0',\n",
       "   'nombre': 'Adobe Creative Cloud Photography plan (Photoshop CC + Lightroom) Student and Teacher [Key Card] - Validation Required',\n",
       "   'marca': 'Adobe',\n",
       "   'precioUnitario': 44.96298689479438,\n",
       "   'idSubCat': 17},\n",
       "  {'idProducto': 'B00OW2PHDM',\n",
       "   'nombre': 'Pinnacle Studio 18 (Old Version)',\n",
       "   'marca': 'by\\n    \\n    Pinnacle Systems',\n",
       "   'precioUnitario': 44.96298689479438,\n",
       "   'idSubCat': 17}]}"
      ]
     },
     "execution_count": 87,
     "metadata": {},
     "output_type": "execute_result"
    }
   ],
   "source": [
    "def get_top_global(good_ratings_df, n=7):\n",
    "    # select those good ratings. group them by iid, sum their values and sort them desc\n",
    "    top_global_grp = good_ratings_df.groupby('asin')['overall'].sum().sort_values(ascending=False)\n",
    "    total = len(top_global_grp)\n",
    "    iids = np.random.choice(top_global_grp.index.values[:total // 10], n)  # from the 10% most rated, pick 10\n",
    "    return db.get_products_info(iids)\n",
    "\n",
    "\n",
    "get_top_global(good_ratings_df)"
   ]
  },
  {
   "cell_type": "code",
   "execution_count": null,
   "metadata": {},
   "outputs": [],
   "source": []
  },
  {
   "cell_type": "markdown",
   "metadata": {},
   "source": [
    "## Agregar productos comprados"
   ]
  },
  {
   "cell_type": "code",
   "execution_count": 22,
   "metadata": {},
   "outputs": [
    {
     "data": {
      "text/plain": [
       "{'idSocio': '1',\n",
       " 'idProductos': ['1', '2', '3', '4', '5'],\n",
       " 'cantidades': [1, 1, 1, 1, 1]}"
      ]
     },
     "execution_count": 22,
     "metadata": {},
     "output_type": "execute_result"
    }
   ],
   "source": [
    "req = {\"idSocio\": \"1\", \"idProductos\": [], \"cantidades\": []}\n",
    "cursor.execute(\"SELECT idProducto FROM producto LIMIT 5\")\n",
    "iids = list(map(itemgetter(0), cursor.fetchall()))\n",
    "req[\"idProductos\"] = iids\n",
    "req[\"cantidades\"] = [1 for _ in iids]\n",
    "req"
   ]
  },
  {
   "cell_type": "code",
   "execution_count": null,
   "metadata": {},
   "outputs": [],
   "source": [
    "\"\"\"\n",
    "{\n",
    "\t\"idSocio\": \"1\",\n",
    "\t\"idProductos\": [\"1\",\"2\",\"3\",\"4\",\"5\"],\n",
    "\t\"cantidades\": [1,1,1,1,1]\n",
    "}\n",
    "\"\"\""
   ]
  },
  {
   "cell_type": "code",
   "execution_count": 23,
   "metadata": {},
   "outputs": [
    {
     "data": {
      "text/plain": [
       "{'success': True}"
      ]
     },
     "execution_count": 23,
     "metadata": {},
     "output_type": "execute_result"
    }
   ],
   "source": [
    "db.insert_hist(req)"
   ]
  },
  {
   "cell_type": "code",
   "execution_count": 24,
   "metadata": {},
   "outputs": [
    {
     "data": {
      "text/plain": [
       "(('1', '1', datetime.datetime(2021, 1, 8, 17, 9, 56), 1),\n",
       " ('1', '2', datetime.datetime(2021, 1, 8, 17, 9, 56), 1),\n",
       " ('1', '3', datetime.datetime(2021, 1, 8, 17, 9, 56), 1),\n",
       " ('1', '4', datetime.datetime(2021, 1, 8, 17, 9, 56), 1),\n",
       " ('1', '5', datetime.datetime(2021, 1, 8, 17, 9, 56), 1))"
      ]
     },
     "execution_count": 24,
     "metadata": {},
     "output_type": "execute_result"
    }
   ],
   "source": [
    "db.read('select * from historial')"
   ]
  },
  {
   "cell_type": "code",
   "execution_count": 25,
   "metadata": {},
   "outputs": [],
   "source": [
    "db.write('delete from historial')"
   ]
  },
  {
   "cell_type": "markdown",
   "metadata": {},
   "source": [
    "## Pendiente"
   ]
  },
  {
   "cell_type": "code",
   "execution_count": 26,
   "metadata": {},
   "outputs": [
    {
     "data": {
      "text/plain": [
       "{'success': True}"
      ]
     },
     "execution_count": 26,
     "metadata": {},
     "output_type": "execute_result"
    }
   ],
   "source": [
    "res = {\"idSocio\": \"1\", \"idProducto\": \"1\"}\n",
    "db.insert_pendiente(res)"
   ]
  },
  {
   "cell_type": "code",
   "execution_count": 27,
   "metadata": {},
   "outputs": [
    {
     "data": {
      "text/plain": [
       "(('1', '1'),)"
      ]
     },
     "execution_count": 27,
     "metadata": {},
     "output_type": "execute_result"
    }
   ],
   "source": [
    "db.read('select * from pendiente')"
   ]
  },
  {
   "cell_type": "code",
   "execution_count": 28,
   "metadata": {},
   "outputs": [],
   "source": [
    "db.write('delete from pendiente')"
   ]
  },
  {
   "cell_type": "code",
   "execution_count": null,
   "metadata": {},
   "outputs": [],
   "source": []
  },
  {
   "cell_type": "code",
   "execution_count": null,
   "metadata": {},
   "outputs": [],
   "source": []
  }
 ],
 "metadata": {
  "kernelspec": {
   "display_name": "Python 3",
   "language": "python",
   "name": "python3"
  },
  "language_info": {
   "codemirror_mode": {
    "name": "ipython",
    "version": 3
   },
   "file_extension": ".py",
   "mimetype": "text/x-python",
   "name": "python",
   "nbconvert_exporter": "python",
   "pygments_lexer": "ipython3",
   "version": "3.7.6"
  }
 },
 "nbformat": 4,
 "nbformat_minor": 4
}
