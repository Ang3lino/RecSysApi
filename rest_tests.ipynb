{
 "cells": [
  {
   "cell_type": "code",
   "execution_count": 100,
   "metadata": {},
   "outputs": [],
   "source": [
    "from flask import Flask, render_template, request, jsonify\n",
    "from flaskext.mysql import MySQL\n",
    "\n",
    "import pymysql  # mysql error handling\n",
    "import itertools\n",
    "import json"
   ]
  },
  {
   "cell_type": "code",
   "execution_count": 95,
   "metadata": {},
   "outputs": [],
   "source": [
    "app = Flask(__name__)\n",
    "app.config.from_pyfile('config.py')\n",
    "\n",
    "mysql = MySQL()\n",
    "mysql.init_app(app)\n",
    "\n",
    "conn = mysql.connect()\n",
    "cursor = conn.cursor()"
   ]
  },
  {
   "cell_type": "markdown",
   "metadata": {},
   "source": [
    "## Registro"
   ]
  },
  {
   "cell_type": "code",
   "execution_count": 123,
   "metadata": {},
   "outputs": [],
   "source": [
    "def register(socio):\n",
    "    '''\n",
    "    Args: \n",
    "        Socio es un diccionario con atributos \n",
    "        ('apPaterno', 'apMaterno', 'nombre', 'edad', 'genero', 'email', 'passwd')\n",
    "    \n",
    "    Return:\n",
    "        Diccionario donde el valor para la clave 'email_used' es True si ya existe un email por ingresar, \n",
    "        valor para success True en caso de hacer el registro correctamente.\n",
    "    '''\n",
    "    res = {'email_used': False, 'success': False}\n",
    "    try:\n",
    "        args_order = ('apPaterno', 'apMaterno', 'nombre', 'edad', 'genero', 'email', 'passwd')\n",
    "        args = tuple(socio[arg] for arg in args_order)\n",
    "        cursor.callproc('insert_socio', args)\n",
    "        res['success'] = True\n",
    "    except pymysql.err.IntegrityError as err:\n",
    "        if 'c_uniq_email_passwd' in str(err):\n",
    "            res['email_used'] = True\n",
    "        print(err)\n",
    "    finally:\n",
    "        conn.commit()    \n",
    "        return res"
   ]
  },
  {
   "cell_type": "code",
   "execution_count": 125,
   "metadata": {},
   "outputs": [
    {
     "data": {
      "text/plain": [
       "{'email_used': False, 'success': True}"
      ]
     },
     "execution_count": 125,
     "metadata": {},
     "output_type": "execute_result"
    }
   ],
   "source": [
    "socio = {\"apPaterno\": \"Mendoza\", \"apMaterno\": \"Hernandez\", \"nombre\": \"Alma\", \n",
    "        \"edad\": 22, \"genero\": \"F\", \"email\": \"almis@gmail.com\", \"passwd\": \"frio\"}\n",
    "register(socio)"
   ]
  },
  {
   "cell_type": "code",
   "execution_count": 126,
   "metadata": {},
   "outputs": [
    {
     "name": "stdout",
     "output_type": "stream",
     "text": [
      "(1062, \"Duplicate entry 'almis@gmail.com' for key 'socio.c_uniq_email_passwd'\")\n"
     ]
    },
    {
     "data": {
      "text/plain": [
       "{'email_used': True, 'success': False}"
      ]
     },
     "execution_count": 126,
     "metadata": {},
     "output_type": "execute_result"
    }
   ],
   "source": [
    "register(socio)"
   ]
  },
  {
   "cell_type": "code",
   "execution_count": 127,
   "metadata": {},
   "outputs": [
    {
     "name": "stdout",
     "output_type": "stream",
     "text": [
      "(1062, \"Duplicate entry 'almis@gmail.com' for key 'socio.c_uniq_email_passwd'\")\n"
     ]
    },
    {
     "data": {
      "text/plain": [
       "{'email_used': True, 'success': False}"
      ]
     },
     "execution_count": 127,
     "metadata": {},
     "output_type": "execute_result"
    }
   ],
   "source": [
    "socio = {\"apPaterno\": \"Fragoso\", \"apMaterno\": \"Hernandez\", \"nombre\": \"Abigail\", \n",
    "        \"edad\": 19, \"genero\": \"F\", \"email\": \"almis@gmail.com\", \"passwd\": \"frio\"}\n",
    "register(socio)"
   ]
  },
  {
   "cell_type": "markdown",
   "metadata": {},
   "source": [
    "## Login"
   ]
  },
  {
   "cell_type": "code",
   "execution_count": 68,
   "metadata": {},
   "outputs": [],
   "source": []
  },
  {
   "cell_type": "code",
   "execution_count": 85,
   "metadata": {},
   "outputs": [],
   "source": [
    "def login(email, passwd):\n",
    "    cursor.execute('select passwd, idSocio from socio where email = %s ', email)\n",
    "    passwd_id_from_db = cursor.fetchone()\n",
    "    res = {'email_found': False, 'correct_passwd': False, 'idSocio': False}\n",
    "    if passwd_id_from_db:\n",
    "        res['email_found'] = True\n",
    "        res['correct_passwd'] = passwd == passwd_id_from_db[0]\n",
    "        if res['correct_passwd']:\n",
    "            res['idSocio'] = passwd_id_from_db[1]\n",
    "    return res"
   ]
  },
  {
   "cell_type": "code",
   "execution_count": 128,
   "metadata": {},
   "outputs": [
    {
     "data": {
      "text/plain": [
       "{'email_found': True,\n",
       " 'correct_passwd': True,\n",
       " 'idSocio': '1f3fd27234c16bd01f4c'}"
      ]
     },
     "execution_count": 128,
     "metadata": {},
     "output_type": "execute_result"
    }
   ],
   "source": [
    "email, passwd = 'almis@gmail.com', 'frio'\n",
    "login(email, passwd)"
   ]
  },
  {
   "cell_type": "code",
   "execution_count": 129,
   "metadata": {},
   "outputs": [
    {
     "data": {
      "text/plain": [
       "{'email_found': True, 'correct_passwd': False, 'idSocio': False}"
      ]
     },
     "execution_count": 129,
     "metadata": {},
     "output_type": "execute_result"
    }
   ],
   "source": [
    "passwd = 'incorrecto'\n",
    "login(email, passwd)"
   ]
  },
  {
   "cell_type": "code",
   "execution_count": 130,
   "metadata": {},
   "outputs": [
    {
     "data": {
      "text/plain": [
       "{'email_found': False, 'correct_passwd': False, 'idSocio': False}"
      ]
     },
     "execution_count": 130,
     "metadata": {},
     "output_type": "execute_result"
    }
   ],
   "source": [
    "email = 'noexiste@gmail.com'\n",
    "login(email, 'falsooo')"
   ]
  },
  {
   "cell_type": "code",
   "execution_count": null,
   "metadata": {},
   "outputs": [],
   "source": []
  },
  {
   "cell_type": "code",
   "execution_count": null,
   "metadata": {},
   "outputs": [],
   "source": []
  },
  {
   "cell_type": "code",
   "execution_count": null,
   "metadata": {},
   "outputs": [],
   "source": []
  },
  {
   "cell_type": "code",
   "execution_count": null,
   "metadata": {},
   "outputs": [],
   "source": []
  }
 ],
 "metadata": {
  "kernelspec": {
   "display_name": "Python 3",
   "language": "python",
   "name": "python3"
  },
  "language_info": {
   "codemirror_mode": {
    "name": "ipython",
    "version": 3
   },
   "file_extension": ".py",
   "mimetype": "text/x-python",
   "name": "python",
   "nbconvert_exporter": "python",
   "pygments_lexer": "ipython3",
   "version": "3.7.6"
  }
 },
 "nbformat": 4,
 "nbformat_minor": 4
}
